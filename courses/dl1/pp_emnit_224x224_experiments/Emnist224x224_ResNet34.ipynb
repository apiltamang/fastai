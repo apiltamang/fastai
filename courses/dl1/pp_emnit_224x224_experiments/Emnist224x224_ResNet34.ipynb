{
 "cells": [
  {
   "cell_type": "markdown",
   "metadata": {},
   "source": [
    "### Running some models against the EMNIST data, blown to 224 x 224"
   ]
  },
  {
   "cell_type": "code",
   "execution_count": 1,
   "metadata": {},
   "outputs": [],
   "source": [
    "# Put these at the top of every notebook, to get automatic reloading and inline plotting\n",
    "%reload_ext autoreload\n",
    "%autoreload 2\n",
    "%matplotlib inline\n",
    "from fastai.imports import *\n",
    "from fastai.transforms import *\n",
    "from fastai.conv_learner import *\n",
    "from fastai.model import *\n",
    "from fastai.dataset import *\n",
    "from fastai.sgdr import *\n",
    "from fastai.plots import *"
   ]
  },
  {
   "cell_type": "code",
   "execution_count": 13,
   "metadata": {},
   "outputs": [],
   "source": [
    "arch = resnet34\n",
    "\n",
    "sz = 224\n",
    "\n",
    "bs = 32\n",
    "\n",
    "PATH = \"/home/apil/work/emnist224x244\"\n",
    "\n",
    "tfms = tfms_from_model(arch, sz, aug_tfms=[RandomScale(sz, max_zoom=1.0)])\n",
    "\n",
    "data = ImageClassifierData.from_csv(PATH, 'train', PATH+'/emnist.csv', tfms=tfms, bs=bs)\n",
    "\n",
    "learn = ConvLearner.pretrained(arch, data, precompute=True)"
   ]
  },
  {
   "cell_type": "code",
   "execution_count": 14,
   "metadata": {},
   "outputs": [
    {
     "data": {
      "application/vnd.jupyter.widget-view+json": {
       "model_id": "64d3166ddf7e4359ac098d9d874fc80e",
       "version_major": 2,
       "version_minor": 0
      },
      "text/plain": [
       "HBox(children=(IntProgress(value=0, description='Epoch', max=1), HTML(value='')))"
      ]
     },
     "metadata": {},
     "output_type": "display_data"
    },
    {
     "name": "stdout",
     "output_type": "stream",
     "text": [
      " 75%|███████▍  | 2101/2820 [00:40<00:13, 52.52it/s, loss=6.68] "
     ]
    }
   ],
   "source": [
    "lrf= learn.lr_find()"
   ]
  },
  {
   "cell_type": "code",
   "execution_count": 15,
   "metadata": {},
   "outputs": [
    {
     "data": {
      "image/png": "[encoded data removed]",
      "text/plain": [
       "<Figure size 432x288 with 1 Axes>"
      ]
     },
     "metadata": {},
     "output_type": "display_data"
    }
   ],
   "source": [
    "learn.sched.plot()"
   ]
  },
  {
   "cell_type": "code",
   "execution_count": 16,
   "metadata": {},
   "outputs": [
    {
     "data": {
      "application/vnd.jupyter.widget-view+json": {
       "model_id": "3d0c5ed2f51a4717ad7ae64bd7158e3d",
       "version_major": 2,
       "version_minor": 0
      },
      "text/plain": [
       "HBox(children=(IntProgress(value=0, description='Epoch', max=2), HTML(value='')))"
      ]
     },
     "metadata": {},
     "output_type": "display_data"
    },
    {
     "name": "stdout",
     "output_type": "stream",
     "text": [
      "epoch      trn_loss   val_loss   accuracy   \n",
      "    0      1.085887   0.783622   0.751097  \n",
      "    1      0.986865   0.707927   0.771045  \n"
     ]
    },
    {
     "data": {
      "text/plain": [
       "[array([0.70793]), 0.7710448158242305]"
      ]
     },
     "execution_count": 16,
     "metadata": {},
     "output_type": "execute_result"
    }
   ],
   "source": [
    "learn.fit(1e-2, 2)"
   ]
  },
  {
   "cell_type": "code",
   "execution_count": 17,
   "metadata": {},
   "outputs": [
    {
     "data": {
      "application/vnd.jupyter.widget-view+json": {
       "model_id": "70d96e18c5af4351a5b82f3266253474",
       "version_major": 2,
       "version_minor": 0
      },
      "text/plain": [
       "HBox(children=(IntProgress(value=0, description='Epoch', max=20), HTML(value='')))"
      ]
     },
     "metadata": {},
     "output_type": "display_data"
    },
    {
     "name": "stdout",
     "output_type": "stream",
     "text": [
      "epoch      trn_loss   val_loss   accuracy   \n",
      "    0      0.881079   0.664459   0.780442  \n",
      "    1      0.827192   0.638057   0.795115  \n",
      "    2      0.85703    0.631529   0.793298  \n",
      "    3      0.792704   0.613863   0.800035  \n",
      "    4      0.846439   0.613973   0.797243  \n",
      "    5      0.742487   0.598411   0.805355  \n",
      "    6      0.853743   0.599757   0.802828  \n",
      "    7      0.73539    0.588017   0.807837  \n",
      "    8      0.791457   0.595577   0.805488  \n",
      "    9      0.7545     0.581716   0.810763  \n",
      "    10     0.780966   0.584561   0.806995  \n",
      "    11     0.723073   0.573439   0.811605  \n",
      "    12     0.781633   0.576947   0.808546  \n",
      "    13     0.693471   0.564779   0.814132  \n",
      "    14     0.704512   0.570937   0.812891  \n",
      "    15     0.690567   0.560845   0.817634  \n",
      "    16     0.750539   0.565791   0.815018  \n",
      "    17     0.680399   0.558517   0.817013  \n",
      "    18     0.715338   0.565176   0.812979  \n",
      "    19     0.663174   0.557978   0.816038  \n"
     ]
    },
    {
     "data": {
      "text/plain": [
       "[array([0.55798]), 0.8160379449153042]"
      ]
     },
     "execution_count": 17,
     "metadata": {},
     "output_type": "execute_result"
    }
   ],
   "source": [
    "learn.fit(1e-2, 10,cycle_len=2)"
   ]
  },
  {
   "cell_type": "code",
   "execution_count": 18,
   "metadata": {},
   "outputs": [],
   "source": [
    "learn.unfreeze()"
   ]
  },
  {
   "cell_type": "code",
   "execution_count": 19,
   "metadata": {},
   "outputs": [],
   "source": [
    "lr=np.array([1e-4,1e-3,1e-2])"
   ]
  },
  {
   "cell_type": "code",
   "execution_count": 21,
   "metadata": {},
   "outputs": [
    {
     "data": {
      "application/vnd.jupyter.widget-view+json": {
       "model_id": "67e0699c3090404d80bda70db70d79df",
       "version_major": 2,
       "version_minor": 0
      },
      "text/plain": [
       "HBox(children=(IntProgress(value=0, description='Epoch', max=31), HTML(value='')))"
      ]
     },
     "metadata": {},
     "output_type": "display_data"
    },
    {
     "name": "stdout",
     "output_type": "stream",
     "text": [
      "epoch      trn_loss   val_loss   accuracy   \n",
      "    0      0.700552   0.552195   0.817855  \n",
      "    1      0.68887    0.556481   0.815683  \n",
      "    2      0.646443   0.549311   0.818432  \n",
      "    3      0.738212   0.562745   0.813777  \n",
      "    4      0.669484   0.546116   0.818831  \n",
      "    5      0.642676   0.536458   0.822155  \n",
      "    6      0.632165   0.535865   0.822111  \n",
      "    7      0.727865   0.557342   0.814974  \n",
      "    8      0.721186   0.554318   0.816127  \n",
      "    9      0.716588   0.548144   0.8179    \n",
      "    10     0.640773   0.540885   0.820515  \n",
      "    11     0.677072   0.536524   0.822244  \n",
      "    12     0.650436   0.532016   0.824106  \n",
      "    13     0.610854   0.529675   0.824948  \n",
      "    14     0.605071   0.529048   0.825524  \n",
      "    15     0.691372   0.544133   0.818476  \n",
      "    16     0.658852   0.54577    0.816659  \n",
      "    17     0.661301   0.538944   0.821003  \n",
      "    18     0.631526   0.538769   0.819584  \n",
      "    19     0.669285   0.535257   0.820116  \n",
      "    20     0.620798   0.532073   0.821978  \n",
      "    21     0.611723   0.527214   0.823175  \n",
      "    22     0.620109   0.527225   0.822953  \n",
      "    23     0.594238   0.524254   0.825569  \n",
      "    24     0.60263    0.521341   0.826278  \n",
      "    25     0.579543   0.516602   0.827652  \n",
      "    26     0.59329    0.51568    0.828494  \n",
      "    27     0.553221   0.513454   0.829336  \n",
      "    28     0.578083   0.516133   0.829558  \n",
      "    29     0.612348   0.513594   0.829115  \n",
      "    30     0.608076   0.513302   0.830223  \n"
     ]
    },
    {
     "data": {
      "text/plain": [
       "[array([0.5133]), 0.8302229708869373]"
      ]
     },
     "execution_count": 21,
     "metadata": {},
     "output_type": "execute_result"
    }
   ],
   "source": [
    "learn.fit(lr, 5, cycle_len=1, cycle_mult=2)"
   ]
  },
  {
   "cell_type": "code",
   "execution_count": null,
   "metadata": {},
   "outputs": [],
   "source": []
  }
 ],
 "metadata": {
  "kernelspec": {
   "display_name": "Python 3",
   "language": "python",
   "name": "python3"
  },
  "language_info": {
   "codemirror_mode": {
    "name": "ipython",
    "version": 3
   },
   "file_extension": ".py",
   "mimetype": "text/x-python",
   "name": "python",
   "nbconvert_exporter": "python",
   "pygments_lexer": "ipython3",
   "version": "3.6.5"
  }
 },
 "nbformat": 4,
 "nbformat_minor": 2
}
