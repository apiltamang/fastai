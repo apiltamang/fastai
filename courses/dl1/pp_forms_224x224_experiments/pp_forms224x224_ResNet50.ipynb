{
 "cells": [
  {
   "cell_type": "code",
   "execution_count": 9,
   "metadata": {},
   "outputs": [],
   "source": [
    "# Put these at the top of every notebook, to get automatic reloading and inline plotting\n",
    "%reload_ext autoreload\n",
    "%autoreload 2\n",
    "%matplotlib inline\n",
    "from fastai.imports import *\n",
    "from fastai.transforms import *\n",
    "from fastai.conv_learner import *\n",
    "from fastai.model import *\n",
    "from fastai.dataset import *\n",
    "from fastai.sgdr import *\n",
    "from fastai.plots import *"
   ]
  },
  {
   "cell_type": "code",
   "execution_count": 10,
   "metadata": {},
   "outputs": [
    {
     "data": {
      "text/plain": [
       "0"
      ]
     },
     "execution_count": 10,
     "metadata": {},
     "output_type": "execute_result"
    }
   ],
   "source": [
    "torch.cuda.current_device()"
   ]
  },
  {
   "cell_type": "code",
   "execution_count": 23,
   "metadata": {},
   "outputs": [],
   "source": [
    "arch = resnet50"
   ]
  },
  {
   "cell_type": "code",
   "execution_count": 27,
   "metadata": {},
   "outputs": [],
   "source": [
    "sz = 224\n",
    "bs = 32\n",
    "PATH = \"/home/apil/work/forms224x224\""
   ]
  },
  {
   "cell_type": "code",
   "execution_count": 28,
   "metadata": {},
   "outputs": [],
   "source": [
    "tfms = tfms_from_model(arch, sz, aug_tfms=[RandomRotateZoom(10,0.18,0.1), RandomLighting(0.05,0.1)])"
   ]
  },
  {
   "cell_type": "code",
   "execution_count": 29,
   "metadata": {},
   "outputs": [],
   "source": [
    "data = ImageClassifierData.from_csv(PATH, 'train', PATH+'/forms.csv', tfms = tfms, bs=bs)"
   ]
  },
  {
   "cell_type": "code",
   "execution_count": 30,
   "metadata": {},
   "outputs": [],
   "source": [
    "learn = ConvLearner.pretrained(arch, data, precompute=False)"
   ]
  },
  {
   "cell_type": "code",
   "execution_count": 31,
   "metadata": {},
   "outputs": [],
   "source": [
    "learn.unfreeze()"
   ]
  },
  {
   "cell_type": "code",
   "execution_count": 33,
   "metadata": {},
   "outputs": [],
   "source": [
    "lrs = np.array([1.e-5, 1.e-4, 1.e-3])"
   ]
  },
  {
   "cell_type": "code",
   "execution_count": 34,
   "metadata": {},
   "outputs": [
    {
     "data": {
      "application/vnd.jupyter.widget-view+json": {
       "model_id": "d2652a300317461d9053fc66ca155910",
       "version_major": 2,
       "version_minor": 0
      },
      "text/plain": [
       "HBox(children=(IntProgress(value=0, description='Epoch', max=1), HTML(value='')))"
      ]
     },
     "metadata": {},
     "output_type": "display_data"
    },
    {
     "name": "stdout",
     "output_type": "stream",
     "text": [
      "epoch      trn_loss   val_loss   accuracy   \n",
      "    0      1.666545   1.139759   0.712725  \n",
      "\n"
     ]
    },
    {
     "data": {
      "text/plain": [
       "[array([1.13976]), 0.7127252867611167]"
      ]
     },
     "execution_count": 34,
     "metadata": {},
     "output_type": "execute_result"
    }
   ],
   "source": [
    "learn.fit(lrs,1)"
   ]
  },
  {
   "cell_type": "code",
   "execution_count": 35,
   "metadata": {},
   "outputs": [],
   "source": [
    "learn.load(\"emnist_224x224_resnet50_full_fit\")"
   ]
  },
  {
   "cell_type": "code",
   "execution_count": 36,
   "metadata": {},
   "outputs": [
    {
     "data": {
      "application/vnd.jupyter.widget-view+json": {
       "model_id": "ca1d124509194ca9840a3fcd6966941f",
       "version_major": 2,
       "version_minor": 0
      },
      "text/plain": [
       "HBox(children=(IntProgress(value=0, description='Epoch', max=1), HTML(value='')))"
      ]
     },
     "metadata": {},
     "output_type": "display_data"
    },
    {
     "name": "stdout",
     "output_type": "stream",
     "text": [
      "epoch      trn_loss   val_loss   accuracy   \n",
      "    0      0.794113   0.510352   0.833697  \n",
      "\n"
     ]
    },
    {
     "data": {
      "text/plain": [
       "[array([0.51035]), 0.8336974329990093]"
      ]
     },
     "execution_count": 36,
     "metadata": {},
     "output_type": "execute_result"
    }
   ],
   "source": [
    "learn.fit(lrs,1)"
   ]
  },
  {
   "cell_type": "code",
   "execution_count": 37,
   "metadata": {},
   "outputs": [],
   "source": [
    "learn.freeze_to(-1)"
   ]
  },
  {
   "cell_type": "code",
   "execution_count": 38,
   "metadata": {},
   "outputs": [
    {
     "data": {
      "application/vnd.jupyter.widget-view+json": {
       "model_id": "a995d2afc1534357910d23b6adb768ba",
       "version_major": 2,
       "version_minor": 0
      },
      "text/plain": [
       "HBox(children=(IntProgress(value=0, description='Epoch', max=5), HTML(value='')))"
      ]
     },
     "metadata": {},
     "output_type": "display_data"
    },
    {
     "name": "stdout",
     "output_type": "stream",
     "text": [
      "epoch      trn_loss   val_loss   accuracy   \n",
      "    0      0.627748   0.435473   0.856363  \n",
      "    1      0.557351   0.414465   0.859913  \n",
      "    2      0.509741   0.395245   0.866466  \n",
      "    3      0.466361   0.385109   0.864555  \n",
      "    4      0.482698   0.37549    0.871109  \n",
      "\n"
     ]
    },
    {
     "data": {
      "text/plain": [
       "[array([0.37549]), 0.8711086837793556]"
      ]
     },
     "execution_count": 38,
     "metadata": {},
     "output_type": "execute_result"
    }
   ],
   "source": [
    "learn.fit(1.e-2, 5)"
   ]
  },
  {
   "cell_type": "code",
   "execution_count": 39,
   "metadata": {},
   "outputs": [],
   "source": [
    "learn.save(\"forms_224x224_resnet50_full\")"
   ]
  },
  {
   "cell_type": "code",
   "execution_count": 42,
   "metadata": {},
   "outputs": [
    {
     "data": {
      "application/vnd.jupyter.widget-view+json": {
       "model_id": "515ed7cc5aef49f4b6e833dd43c3e91a",
       "version_major": 2,
       "version_minor": 0
      },
      "text/plain": [
       "HBox(children=(IntProgress(value=0, description='Epoch', max=5), HTML(value='')))"
      ]
     },
     "metadata": {},
     "output_type": "display_data"
    },
    {
     "name": "stdout",
     "output_type": "stream",
     "text": [
      "epoch      trn_loss   val_loss   accuracy   \n",
      "    0      0.420389   0.361046   0.874659  \n",
      "    1      0.416085   0.362377   0.875751  \n",
      "    2      0.390231   0.354847   0.874386  \n",
      "    3      0.369212   0.352224   0.879847  \n",
      "    4      0.351479   0.3518     0.878482  \n",
      "\n"
     ]
    },
    {
     "data": {
      "text/plain": [
       "[array([0.3518]), 0.8784817038892332]"
      ]
     },
     "execution_count": 42,
     "metadata": {},
     "output_type": "execute_result"
    }
   ],
   "source": [
    "learn.fit(1.e-2, 5)"
   ]
  },
  {
   "cell_type": "code",
   "execution_count": 43,
   "metadata": {},
   "outputs": [],
   "source": [
    "learn.unfreeze()"
   ]
  },
  {
   "cell_type": "code",
   "execution_count": 44,
   "metadata": {},
   "outputs": [],
   "source": [
    "lrs = np.array([1.e-4, 1.e-3, 1.e-2])"
   ]
  },
  {
   "cell_type": "code",
   "execution_count": 45,
   "metadata": {},
   "outputs": [
    {
     "data": {
      "application/vnd.jupyter.widget-view+json": {
       "model_id": "543dfac40389402aabcd2b822ea26324",
       "version_major": 2,
       "version_minor": 0
      },
      "text/plain": [
       "HBox(children=(IntProgress(value=0, description='Epoch', max=127), HTML(value='')))"
      ]
     },
     "metadata": {},
     "output_type": "display_data"
    },
    {
     "name": "stdout",
     "output_type": "stream",
     "text": [
      "epoch      trn_loss   val_loss   accuracy   \n",
      "    0      0.375677   0.256493   0.903878  \n",
      "    1      0.270026   0.234256   0.918897  \n",
      "    2      0.199083   0.217061   0.922447  \n",
      "    3      0.220873   0.2446     0.910431  \n",
      "    4      0.148093   0.211462   0.921901  \n",
      "    5      0.114161   0.202337   0.92627   \n",
      "    6      0.104127   0.198555   0.929547  \n",
      "    7      0.130332   0.238581   0.916712  \n",
      "    8      0.119136   0.23627    0.916712  \n",
      "    9      0.089277   0.219851   0.920808  \n",
      "    10     0.073912   0.210667   0.926816  \n",
      "    11     0.057677   0.217993   0.930639  \n",
      "    12     0.044613   0.21587    0.929547  \n",
      "    13     0.038139   0.212191   0.930912  \n",
      "    14     0.031256   0.210181   0.933643  \n",
      "    15     0.08471    0.261203   0.921354  \n",
      "    16     0.078086   0.254413   0.925997  \n",
      "    17     0.057826   0.24167    0.92627   \n",
      "    18     0.04439    0.264797   0.928181  \n",
      "    19     0.042162   0.261327   0.929001  \n",
      "    20     0.037312   0.257085   0.928727  \n",
      "    21     0.028485   0.259588   0.925451  \n",
      "    22     0.021615   0.252062   0.934735  \n",
      "    23     0.018571   0.254669   0.932277  \n",
      "    24     0.01277    0.256517   0.931731  \n",
      "    25     0.009335   0.261198   0.930366  \n",
      "    26     0.014004   0.264525   0.929547  \n",
      "    27     0.008853   0.264622   0.930912  \n",
      "    28     0.007958   0.265902   0.929547  \n",
      "    29     0.010418   0.264727   0.929547  \n",
      "    30     0.01114    0.264147   0.928454  \n",
      "    31     0.031922   0.286213   0.922993  \n",
      "    32     0.032351   0.31386    0.921081  \n",
      "    33     0.029184   0.287769   0.924358  \n",
      "    34     0.022771   0.310635   0.921354  \n",
      "    35     0.029713   0.320474   0.927089  \n",
      "    36     0.022204   0.299537   0.928454  \n",
      "    37     0.029729   0.315091   0.924631  \n",
      "    38     0.023117   0.300616   0.927908  \n",
      "    39     0.019199   0.293779   0.92627   \n",
      "    40     0.013884   0.277427   0.931185  \n",
      "    41     0.011439   0.276202   0.933643  \n",
      "    42     0.016144   0.305984   0.928181  \n",
      "    43     0.009619   0.301261   0.926543  \n",
      "    44     0.007942   0.295626   0.930639  \n",
      "    45     0.014096   0.289213   0.931731  \n",
      "    46     0.003429   0.276079   0.936374  \n",
      "    47     0.006862   0.285085   0.934189  \n",
      "    48     0.005564   0.294204   0.933643  \n",
      "    49     0.005372   0.28751    0.933643  \n",
      "    50     0.003721   0.29384    0.933916  \n",
      "    51     0.004653   0.291065   0.935827  \n",
      "    52     0.003608   0.290473   0.936374  \n",
      "    53     0.003708   0.287805   0.935008  \n",
      "    54     0.007655   0.286955   0.935554  \n",
      "    55     0.003742   0.286148   0.936374  \n",
      "    56     0.00443    0.290765   0.933097  \n",
      "    57     0.007445   0.286097   0.9361    \n",
      "    58     0.002454   0.283001   0.935827  \n",
      "    59     0.005312   0.284725   0.934189  \n",
      "    60     0.00265    0.281943   0.933916  \n",
      "    61     0.002901   0.286274   0.933097  \n",
      "    62     0.002857   0.286378   0.934462  \n",
      "    63     0.012155   0.343542   0.930639  \n",
      "    64     0.006292   0.339405   0.927908  \n",
      "    65     0.016161   0.352336   0.926816  \n",
      "    66     0.016398   0.365907   0.923266  \n",
      "    67     0.015755   0.325539   0.928454  \n",
      "    68     0.007995   0.31088    0.92982   \n",
      "    69     0.017755   0.319757   0.925724  \n",
      "    70     0.013833   0.343891   0.92982   \n",
      "    71     0.008377   0.325595   0.927635  \n",
      "    72     0.008567   0.332985   0.927908  \n",
      "    73     0.006268   0.31667    0.932004  \n",
      "    74     0.005511   0.325399   0.931731  \n",
      "    75     0.008164   0.342701   0.933097  \n",
      "    76     0.011868   0.329017   0.931731  \n",
      "    77     0.005729   0.32708    0.92982   \n",
      "    78     0.013363   0.31698    0.929547  \n",
      "    79     0.011586   0.30294    0.931185  \n",
      "    80     0.008412   0.329813   0.933916  \n",
      "    81     0.004036   0.322656   0.934462  \n",
      "    82     0.007497   0.326487   0.936647  \n",
      "    83     0.005836   0.331034   0.933643  \n",
      "    84     0.005085   0.346756   0.930093  \n",
      "    85     0.005411   0.335586   0.92982   \n",
      "    86     0.003196   0.313051   0.933916  \n",
      "    87     0.00371    0.331734   0.935008  \n",
      "    88     0.002367   0.331991   0.931458  \n",
      "    89     0.004798   0.353601   0.93337   \n",
      "    90     0.003647   0.347043   0.931458  \n",
      "    91     0.001973   0.339581   0.932004  \n",
      "    92     0.003565   0.336837   0.935827  \n",
      "    93     0.002241   0.348856   0.935827  \n",
      "    94     0.00282    0.34658    0.935554  \n",
      "    95     0.001292   0.344716   0.935554  \n",
      "    96     0.002204   0.346899   0.935008  \n",
      "    97     0.004352   0.342889   0.933643  \n",
      "    98     0.002343   0.346426   0.9361    \n",
      "    99     0.00238    0.340778   0.934189  \n",
      "   100     0.002107   0.34786    0.935281  \n",
      "   101     0.000827   0.335773   0.933643  \n",
      "   102     0.001466   0.340213   0.935827  \n",
      "   103     0.001496   0.338787   0.933916  \n",
      "   104     0.002161   0.339549   0.93692   \n",
      "   105     0.001701   0.33866    0.935554  \n",
      "   106     0.001512   0.343971   0.935554  \n",
      "   107     0.001669   0.336562   0.933643  \n",
      "   108     0.000814   0.341145   0.935008  \n",
      "   109     0.001235   0.332941   0.9361    \n",
      "   110     0.002405   0.334157   0.937739  \n",
      "   111     0.000657   0.332766   0.935554  \n",
      "   112     0.001106   0.336852   0.937193  \n",
      "   113     0.003825   0.343363   0.935554  \n",
      "   114     0.001035   0.341666   0.935008  \n",
      "   115     0.001022   0.336496   0.935281  \n",
      "   116     0.000888   0.342986   0.936647  \n",
      "   117     0.000774   0.341845   0.935827  \n",
      "   118     0.000979   0.339082   0.936374  \n",
      "   119     0.000823   0.336876   0.93692   \n",
      "   120     0.001045   0.338523   0.937739  \n",
      "   121     0.000702   0.333173   0.936647  \n",
      "   122     0.000646   0.340537   0.936647  \n",
      "   123     0.000792   0.336348   0.9361    \n",
      "   124     0.001094   0.334394   0.936647  \n",
      "   125     0.000701   0.335862   0.9361    \n",
      "   126     0.00101    0.342306   0.935554  \n",
      "\n"
     ]
    },
    {
     "data": {
      "text/plain": [
       "[array([0.34231]), 0.9355543418896778]"
      ]
     },
     "execution_count": 45,
     "metadata": {},
     "output_type": "execute_result"
    }
   ],
   "source": [
    "learn.fit(lrs, 7, cycle_len=1, cycle_mult=2, cycle_save_name=\"best_cycle\")"
   ]
  },
  {
   "cell_type": "code",
   "execution_count": null,
   "metadata": {},
   "outputs": [],
   "source": []
  }
 ],
 "metadata": {
  "kernelspec": {
   "display_name": "Python 3",
   "language": "python",
   "name": "python3"
  },
  "language_info": {
   "codemirror_mode": {
    "name": "ipython",
    "version": 3
   },
   "file_extension": ".py",
   "mimetype": "text/x-python",
   "name": "python",
   "nbconvert_exporter": "python",
   "pygments_lexer": "ipython3",
   "version": "3.6.5"
  },
  "varInspector": {
   "cols": {
    "lenName": 16,
    "lenType": 16,
    "lenVar": 40
   },
   "kernels_config": {
    "python": {
     "delete_cmd_postfix": "",
     "delete_cmd_prefix": "del ",
     "library": "var_list.py",
     "varRefreshCmd": "print(var_dic_list())"
    },
    "r": {
     "delete_cmd_postfix": ") ",
     "delete_cmd_prefix": "rm(",
     "library": "var_list.r",
     "varRefreshCmd": "cat(var_dic_list()) "
    }
   },
   "types_to_exclude": [
    "module",
    "function",
    "builtin_function_or_method",
    "instance",
    "_Feature"
   ],
   "window_display": false
  }
 },
 "nbformat": 4,
 "nbformat_minor": 2
}
