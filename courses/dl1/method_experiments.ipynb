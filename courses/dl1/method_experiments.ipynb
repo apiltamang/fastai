{
 "cells": [
  {
   "cell_type": "code",
   "execution_count": 1,
   "metadata": {},
   "outputs": [
    {
     "name": "stdout",
     "output_type": "stream",
     "text": [
      "\n",
      "\u001b[93m    Warning: no model found for 'en'\u001b[0m\n",
      "\n",
      "    Only loading the 'en' tokenizer.\n",
      "\n"
     ]
    }
   ],
   "source": [
    "%reload_ext autoreload\n",
    "%autoreload 2\n",
    "%matplotlib inline\n",
    "\n",
    "from fastai.learner import *\n",
    "\n",
    "import torchtext\n",
    "from torchtext import vocab, data\n",
    "from torchtext.datasets import language_modeling\n",
    "\n",
    "from fastai.rnn_reg import *\n",
    "from fastai.rnn_train import *\n",
    "from fastai.nlp import *\n",
    "from fastai.lm_rnn import *\n",
    "\n",
    "import dill as pickle"
   ]
  },
  {
   "cell_type": "code",
   "execution_count": 24,
   "metadata": {},
   "outputs": [
    {
     "data": {
      "text/plain": [
       "Variable containing:\n",
       "(0 ,.,.) = \n",
       "  0.3072  0.8968  0.8330  0.6295  0.4243  0.6288  0.8540\n",
       "  0.3752  0.8745  0.1348  0.7274  0.7042  0.6890  0.7467\n",
       "  0.2649  0.3058  0.9134  0.9111  0.8325  0.3912  0.4200\n",
       "  0.0997  0.1384  0.4181  0.8120  0.2347  0.8642  0.3074\n",
       "  0.8950  0.5646  0.2253  0.3877  0.4517  0.5982  0.9729\n",
       "\n",
       "(1 ,.,.) = \n",
       "  0.5024  0.4907  0.3636  0.7132  0.1826  0.1149  0.7417\n",
       "  0.8142  0.0452  0.1074  0.9907  0.2441  0.7904  0.0591\n",
       "  0.6894  0.2046  0.2616  0.5011  0.5936  0.7097  0.3929\n",
       "  0.8416  0.2519  0.5920  0.5421  0.1710  0.5138  0.6744\n",
       "  0.1220  0.2472  0.8662  0.0656  0.6495  0.5618  0.5176\n",
       "[torch.FloatTensor of size 2x5x7]"
      ]
     },
     "execution_count": 24,
     "metadata": {},
     "output_type": "execute_result"
    }
   ],
   "source": [
    "a_Var = torch.autograd.Variable(torch.Tensor(2, 5, 7).uniform_(0, 1), requires_grad=False)\n",
    "a_Var"
   ]
  },
  {
   "cell_type": "code",
   "execution_count": 31,
   "metadata": {},
   "outputs": [
    {
     "data": {
      "text/plain": [
       "\n",
       "(0 ,.,.) = \n",
       "   5   0   0   0   0   0   5\n",
       "   0   0   0   0   0   0   5\n",
       "   0   0   0   5   5   0   5\n",
       "   0   0   0   5   5   5   0\n",
       "   0   0   0   5   0   5   0\n",
       "[torch.FloatTensor of size 1x5x7]"
      ]
     },
     "execution_count": 31,
     "metadata": {},
     "output_type": "execute_result"
    }
   ],
   "source": [
    "a_mask = dropout_mask(a_Var.data, (1,a_Var.size(1),a_Var.size(2)), dropout=0.8)\n",
    "a_mask"
   ]
  },
  {
   "cell_type": "code",
   "execution_count": 32,
   "metadata": {},
   "outputs": [
    {
     "data": {
      "text/plain": [
       "\n",
       "(0 ,.,.) = \n",
       "   0   0   0   0   0   5   0\n",
       "   0   0   5   5   5   0   0\n",
       "   5   0   0   0   0   0   0\n",
       "   0   0   0   0   0   0   5\n",
       "   0   0   0   0   0   5   0\n",
       "[torch.FloatTensor of size 1x5x7]"
      ]
     },
     "execution_count": 32,
     "metadata": {},
     "output_type": "execute_result"
    }
   ],
   "source": [
    "a_mask = dropout_mask(a_Var.data, (1,a_Var.size(1),a_Var.size(2)), dropout=0.8)\n",
    "a_mask"
   ]
  },
  {
   "cell_type": "code",
   "execution_count": 33,
   "metadata": {},
   "outputs": [
    {
     "data": {
      "text/plain": [
       "\n",
       "(0 ,.,.) = \n",
       "   0   0   0   0   0   0   0\n",
       "   5   0   0   0   0   0   0\n",
       "   0   0   5   0   0   5   0\n",
       "   0   0   0   0   0   0   0\n",
       "   0   0   0   5   0   0   0\n",
       "[torch.FloatTensor of size 1x5x7]"
      ]
     },
     "execution_count": 33,
     "metadata": {},
     "output_type": "execute_result"
    }
   ],
   "source": [
    "a_mask = dropout_mask(a_Var.data, (1,a_Var.size(1),a_Var.size(2)), dropout=0.8)\n",
    "a_mask"
   ]
  },
  {
   "cell_type": "code",
   "execution_count": null,
   "metadata": {
    "collapsed": true
   },
   "outputs": [],
   "source": []
  }
 ],
 "metadata": {
  "kernelspec": {
   "display_name": "Python 3",
   "language": "python",
   "name": "python3"
  },
  "language_info": {
   "codemirror_mode": {
    "name": "ipython",
    "version": 3
   },
   "file_extension": ".py",
   "mimetype": "text/x-python",
   "name": "python",
   "nbconvert_exporter": "python",
   "pygments_lexer": "ipython3",
   "version": "3.6.2"
  }
 },
 "nbformat": 4,
 "nbformat_minor": 2
}
