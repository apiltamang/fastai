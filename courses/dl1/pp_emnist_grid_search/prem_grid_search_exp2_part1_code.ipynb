{
 "cells": [
  {
   "cell_type": "code",
   "execution_count": null,
   "metadata": {},
   "outputs": [],
   "source": [
    "# search best image size, image architecture, and mode (pretrained/scratch)"
   ]
  },
  {
   "cell_type": "code",
   "execution_count": 1,
   "metadata": {},
   "outputs": [],
   "source": [
    "import sys\n",
    "sys.path.append(\"..\")\n",
    "from fastai_imports import *"
   ]
  },
  {
   "cell_type": "code",
   "execution_count": 2,
   "metadata": {},
   "outputs": [],
   "source": [
    "torch.cuda.set_device(0)"
   ]
  },
  {
   "cell_type": "code",
   "execution_count": 3,
   "metadata": {},
   "outputs": [],
   "source": [
    "archs = [resnet18, resnet34, resnet50, resnet101]\n",
    "szes = [28, 64]"
   ]
  },
  {
   "cell_type": "code",
   "execution_count": 4,
   "metadata": {},
   "outputs": [],
   "source": [
    "def train(arch, sz, pt, bs, PATH):\n",
    "    print(\"training for arch: \"+arch.__name__+\", image_size: \"+str(sz)+\", pretrained: \"+str(pt))\n",
    "    data = ImageClassifierData.from_csv(PATH, \"train\", PATH+\"train.csv\", bs, tfms=tfms_from_model(arch, sz))\n",
    "    learn = ConvLearner.pretrained(arch, data, precompute=True, pretrained=pt)\n",
    "    learn.fit(1.e-2, 5)\n",
    "    learn.unfreeze()\n",
    "    lrs = np.array([1.e-4, 1.e-3, 1.e-2])\n",
    "    learn.fit(lrs, 5, cycle_len=1)"
   ]
  },
  {
   "cell_type": "code",
   "execution_count": 5,
   "metadata": {},
   "outputs": [
    {
     "name": "stdout",
     "output_type": "stream",
     "text": [
      "training for arch: resnet18, image_size: 28, pretrained: True\n"
     ]
    },
    {
     "data": {
      "application/vnd.jupyter.widget-view+json": {
       "model_id": "6fb4b09e6c644a06acbd063f05783ab2",
       "version_major": 2,
       "version_minor": 0
      },
      "text/plain": [
       "HBox(children=(IntProgress(value=0, description='Epoch', max=5), HTML(value='')))"
      ]
     },
     "metadata": {},
     "output_type": "display_data"
    },
    {
     "name": "stdout",
     "output_type": "stream",
     "text": [
      "epoch      trn_loss   val_loss   accuracy   \n",
      "    0      1.398871   1.071478   0.667184  \n",
      "    1      1.214166   0.976543   0.694534  \n",
      "    2      1.229284   0.934253   0.705882  \n",
      "    3      1.177656   0.89323    0.719048  \n",
      "    4      1.14281    0.88705    0.722372  \n",
      "\n"
     ]
    },
    {
     "data": {
      "application/vnd.jupyter.widget-view+json": {
       "model_id": "2a32fcbeaba34c9f8c29de3951cf1a75",
       "version_major": 2,
       "version_minor": 0
      },
      "text/plain": [
       "HBox(children=(IntProgress(value=0, description='Epoch', max=5), HTML(value='')))"
      ]
     },
     "metadata": {},
     "output_type": "display_data"
    },
    {
     "name": "stdout",
     "output_type": "stream",
     "text": [
      "epoch      trn_loss   val_loss   accuracy   \n",
      "    0      1.080941   0.844848   0.733676  \n",
      "    1      1.127314   0.840778   0.733942  \n",
      "    2      1.0411     0.835549   0.735228  \n",
      "    3      1.053699   0.832955   0.734651  \n",
      "    4      1.081786   0.826538   0.739616  \n",
      "\n",
      "training for arch: resnet34, image_size: 28, pretrained: True\n"
     ]
    },
    {
     "data": {
      "application/vnd.jupyter.widget-view+json": {
       "model_id": "27a94e0023e541bdacda080ecdaf1ee9",
       "version_major": 2,
       "version_minor": 0
      },
      "text/plain": [
       "HBox(children=(IntProgress(value=0, description='Epoch', max=5), HTML(value='')))"
      ]
     },
     "metadata": {},
     "output_type": "display_data"
    },
    {
     "name": "stdout",
     "output_type": "stream",
     "text": [
      "epoch      trn_loss   val_loss   accuracy   \n",
      "    0      1.241866   0.926963   0.712133  \n",
      "    1      1.118245   0.838225   0.737887  \n",
      "    2      1.025553   0.81024    0.745778  \n",
      "    3      1.018361   0.785806   0.749501  \n",
      "    4      1.000602   0.783017   0.757702  \n",
      "\n"
     ]
    },
    {
     "data": {
      "application/vnd.jupyter.widget-view+json": {
       "model_id": "554e5965f7ef4d608cf2a9d3341dc496",
       "version_major": 2,
       "version_minor": 0
      },
      "text/plain": [
       "HBox(children=(IntProgress(value=0, description='Epoch', max=5), HTML(value='')))"
      ]
     },
     "metadata": {},
     "output_type": "display_data"
    },
    {
     "name": "stdout",
     "output_type": "stream",
     "text": [
      "epoch      trn_loss   val_loss   accuracy   \n",
      "    0      0.935215   0.7358     0.768208  \n",
      "    1      0.938463   0.730592   0.770291  \n",
      "    2      0.919093   0.724701   0.772596  \n",
      "    3      0.922554   0.735459   0.770557  \n",
      "    4      0.912788   0.712368   0.774946  \n",
      "\n",
      "training for arch: resnet50, image_size: 28, pretrained: True\n"
     ]
    },
    {
     "data": {
      "application/vnd.jupyter.widget-view+json": {
       "model_id": "318fdd40fd8040fe8560da52625e53c1",
       "version_major": 2,
       "version_minor": 0
      },
      "text/plain": [
       "HBox(children=(IntProgress(value=0, description='Epoch', max=5), HTML(value='')))"
      ]
     },
     "metadata": {},
     "output_type": "display_data"
    },
    {
     "name": "stdout",
     "output_type": "stream",
     "text": [
      "epoch      trn_loss   val_loss   accuracy   \n",
      "    0      1.129859   0.862114   0.722417  \n",
      "    1      0.96512    0.791319   0.745999  \n",
      "    2      0.942468   0.740459   0.763154  \n",
      "    3      0.904323   0.713679   0.769316  \n",
      "    4      0.869598   0.708162   0.772641  \n",
      "\n"
     ]
    },
    {
     "data": {
      "application/vnd.jupyter.widget-view+json": {
       "model_id": "c974266aa9e341239617b388ca985529",
       "version_major": 2,
       "version_minor": 0
      },
      "text/plain": [
       "HBox(children=(IntProgress(value=0, description='Epoch', max=5), HTML(value='')))"
      ]
     },
     "metadata": {},
     "output_type": "display_data"
    },
    {
     "name": "stdout",
     "output_type": "stream",
     "text": [
      "epoch      trn_loss   val_loss   accuracy   \n",
      "    0      0.759718   0.664165   0.786205  \n",
      "    1      0.773658   0.656016   0.786382  \n",
      "    2      0.768102   0.648424   0.788421  \n",
      "    3      0.764552   0.646182   0.789574  \n",
      "    4      0.716784   0.643431   0.789175  \n",
      "\n",
      "training for arch: resnet101, image_size: 28, pretrained: True\n"
     ]
    },
    {
     "data": {
      "application/vnd.jupyter.widget-view+json": {
       "model_id": "dd3a3f7b18784ce38e84d0c8aee6de6c",
       "version_major": 2,
       "version_minor": 0
      },
      "text/plain": [
       "HBox(children=(IntProgress(value=0, description='Epoch', max=5), HTML(value='')))"
      ]
     },
     "metadata": {},
     "output_type": "display_data"
    },
    {
     "name": "stdout",
     "output_type": "stream",
     "text": [
      "epoch      trn_loss   val_loss   accuracy   \n",
      "    0      1.265207   0.958896   0.697194  \n",
      "    1      1.03939    0.864216   0.729332  \n",
      "    2      1.025781   0.811742   0.740724  \n",
      "    3      0.971525   0.788099   0.748925  \n",
      "    4      0.89595    0.761402   0.754466  \n",
      "\n"
     ]
    },
    {
     "data": {
      "application/vnd.jupyter.widget-view+json": {
       "model_id": "16c6bdec0e404191a20880654e0aa2b2",
       "version_major": 2,
       "version_minor": 0
      },
      "text/plain": [
       "HBox(children=(IntProgress(value=0, description='Epoch', max=5), HTML(value='')))"
      ]
     },
     "metadata": {},
     "output_type": "display_data"
    },
    {
     "name": "stdout",
     "output_type": "stream",
     "text": [
      "epoch      trn_loss   val_loss   accuracy   \n",
      "    0      0.809257   0.729979   0.766878  \n",
      "    1      0.849099   0.727855   0.76639   \n",
      "    2      0.827463   0.726672   0.769538  \n",
      "    3      0.856174   0.72388    0.76772   \n",
      "    4      0.843931   0.706851   0.773439  \n",
      "\n",
      "training for arch: resnet18, image_size: 64, pretrained: True\n"
     ]
    },
    {
     "data": {
      "application/vnd.jupyter.widget-view+json": {
       "model_id": "c89830f823534b75a19c79580a3c25a5",
       "version_major": 2,
       "version_minor": 0
      },
      "text/plain": [
       "HBox(children=(IntProgress(value=0, description='Epoch', max=5), HTML(value='')))"
      ]
     },
     "metadata": {},
     "output_type": "display_data"
    },
    {
     "name": "stdout",
     "output_type": "stream",
     "text": [
      "epoch      trn_loss   val_loss   accuracy   \n",
      "    0      1.275853   0.967956   0.698746  \n",
      "    1      1.148106   0.888663   0.718605  \n",
      "    2      1.1267     0.83872    0.734164  \n",
      "    3      1.022778   0.81273    0.739793  \n",
      "    4      1.015819   0.80029    0.746664  \n",
      "\n"
     ]
    },
    {
     "data": {
      "application/vnd.jupyter.widget-view+json": {
       "model_id": "98c56689a4dc48ff8e1bf6ad4844c533",
       "version_major": 2,
       "version_minor": 0
      },
      "text/plain": [
       "HBox(children=(IntProgress(value=0, description='Epoch', max=5), HTML(value='')))"
      ]
     },
     "metadata": {},
     "output_type": "display_data"
    },
    {
     "name": "stdout",
     "output_type": "stream",
     "text": [
      "epoch      trn_loss   val_loss   accuracy   \n",
      "    0      0.966651   0.757359   0.758323  \n",
      "    1      0.977669   0.749881   0.760273  \n",
      "    2      0.966215   0.743038   0.763997  \n",
      "    3      0.913647   0.735253   0.765149  \n",
      "    4      0.905249   0.729385   0.767366  \n",
      "\n",
      "training for arch: resnet34, image_size: 64, pretrained: True\n"
     ]
    },
    {
     "data": {
      "application/vnd.jupyter.widget-view+json": {
       "model_id": "20cd9859eb344c71a94b16dd0bebcd0b",
       "version_major": 2,
       "version_minor": 0
      },
      "text/plain": [
       "HBox(children=(IntProgress(value=0, description='Epoch', max=5), HTML(value='')))"
      ]
     },
     "metadata": {},
     "output_type": "display_data"
    },
    {
     "name": "stdout",
     "output_type": "stream",
     "text": [
      "epoch      trn_loss   val_loss   accuracy   \n",
      "    0      1.169716   0.87482    0.725342  \n",
      "    1      1.056587   0.794233   0.743473  \n",
      "    2      0.988027   0.751372   0.761603  \n",
      "    3      0.907587   0.727027   0.763952  \n",
      "    4      0.903816   0.704006   0.770424  \n",
      "\n"
     ]
    },
    {
     "data": {
      "application/vnd.jupyter.widget-view+json": {
       "model_id": "dd8e8dbdd7fa45678a3cbd3d01a38f9f",
       "version_major": 2,
       "version_minor": 0
      },
      "text/plain": [
       "HBox(children=(IntProgress(value=0, description='Epoch', max=5), HTML(value='')))"
      ]
     },
     "metadata": {},
     "output_type": "display_data"
    },
    {
     "name": "stdout",
     "output_type": "stream",
     "text": [
      "epoch      trn_loss   val_loss   accuracy   \n",
      "    0      0.879565   0.680905   0.777428  \n",
      "    1      0.858166   0.672375   0.782393  \n",
      "    2      0.89096    0.666112   0.783811  \n",
      "    3      0.853334   0.660948   0.785806  \n",
      "    4      0.844363   0.658896   0.787402  \n",
      "\n",
      "training for arch: resnet50, image_size: 64, pretrained: True\n"
     ]
    },
    {
     "data": {
      "application/vnd.jupyter.widget-view+json": {
       "model_id": "bc14cf4237c047718ddc2f82a23068a9",
       "version_major": 2,
       "version_minor": 0
      },
      "text/plain": [
       "HBox(children=(IntProgress(value=0, description='Epoch', max=5), HTML(value='')))"
      ]
     },
     "metadata": {},
     "output_type": "display_data"
    },
    {
     "name": "stdout",
     "output_type": "stream",
     "text": [
      "epoch      trn_loss   val_loss   accuracy   \n",
      "    0      1.077973   0.854445   0.726672  \n",
      "    1      0.9986     0.755901   0.757746  \n",
      "    2      0.906674   0.705231   0.773527  \n",
      "    3      0.860422   0.684171   0.777694  \n",
      "    4      0.821343   0.665724   0.782526  \n",
      "\n"
     ]
    },
    {
     "data": {
      "application/vnd.jupyter.widget-view+json": {
       "model_id": "ce97a273ec9842148884df21a8518c39",
       "version_major": 2,
       "version_minor": 0
      },
      "text/plain": [
       "HBox(children=(IntProgress(value=0, description='Epoch', max=5), HTML(value='')))"
      ]
     },
     "metadata": {},
     "output_type": "display_data"
    },
    {
     "name": "stdout",
     "output_type": "stream",
     "text": [
      "epoch      trn_loss   val_loss   accuracy   \n",
      "    0      0.770996   0.613845   0.797331  \n",
      "    1      0.688518   0.60548    0.800523  \n",
      "    2      0.696648   0.603858   0.800789  \n",
      "    3      0.703792   0.592683   0.802208  \n",
      "    4      0.70728    0.588387   0.803537  \n",
      "\n",
      "training for arch: resnet101, image_size: 64, pretrained: True\n"
     ]
    },
    {
     "data": {
      "application/vnd.jupyter.widget-view+json": {
       "model_id": "841a109365a14483a43f9cfacc310db4",
       "version_major": 2,
       "version_minor": 0
      },
      "text/plain": [
       "HBox(children=(IntProgress(value=0, description='Epoch', max=5), HTML(value='')))"
      ]
     },
     "metadata": {},
     "output_type": "display_data"
    },
    {
     "name": "stdout",
     "output_type": "stream",
     "text": [
      "epoch      trn_loss   val_loss   accuracy   \n",
      "    0      1.089729   0.804899   0.742808  \n",
      "    1      0.954523   0.71172    0.767454  \n",
      "    2      0.862471   0.673551   0.777428  \n",
      "    3      0.826745   0.644545   0.789751  \n",
      "    4      0.784021   0.62268    0.795425  \n",
      "\n"
     ]
    },
    {
     "data": {
      "application/vnd.jupyter.widget-view+json": {
       "model_id": "e0ef68281fc947cb9eec58ed0b744c3d",
       "version_major": 2,
       "version_minor": 0
      },
      "text/plain": [
       "HBox(children=(IntProgress(value=0, description='Epoch', max=5), HTML(value='')))"
      ]
     },
     "metadata": {},
     "output_type": "display_data"
    },
    {
     "name": "stdout",
     "output_type": "stream",
     "text": [
      "epoch      trn_loss   val_loss   accuracy   \n",
      "    0      0.694264   0.58135    0.808635  \n",
      "    1      0.727437   0.573348   0.810586  \n",
      "    2      0.640195   0.571177   0.810896  \n",
      "    3      0.641538   0.568179   0.81125   \n",
      "    4      0.62511    0.56217    0.81493   \n",
      "\n"
     ]
    }
   ],
   "source": [
    "for sz in szes:\n",
    "    for arch in archs:\n",
    "        train(arch, sz, pt=True, bs=32, PATH=\"/home/apil/work/emnist/\" )"
   ]
  },
  {
   "cell_type": "code",
   "execution_count": null,
   "metadata": {},
   "outputs": [],
   "source": [
    "ar = resnet18"
   ]
  },
  {
   "cell_type": "code",
   "execution_count": null,
   "metadata": {},
   "outputs": [],
   "source": [
    "ar.__name__"
   ]
  },
  {
   "cell_type": "code",
   "execution_count": null,
   "metadata": {},
   "outputs": [],
   "source": []
  }
 ],
 "metadata": {
  "kernelspec": {
   "display_name": "Python 3",
   "language": "python",
   "name": "python3"
  },
  "language_info": {
   "codemirror_mode": {
    "name": "ipython",
    "version": 3
   },
   "file_extension": ".py",
   "mimetype": "text/x-python",
   "name": "python",
   "nbconvert_exporter": "python",
   "pygments_lexer": "ipython3",
   "version": "3.6.5"
  }
 },
 "nbformat": 4,
 "nbformat_minor": 2
}
