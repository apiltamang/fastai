{
 "cells": [
  {
   "cell_type": "code",
   "execution_count": null,
   "metadata": {},
   "outputs": [],
   "source": [
    "# search best image size, image architecture, and mode (pretrained/scratch)"
   ]
  },
  {
   "cell_type": "code",
   "execution_count": 1,
   "metadata": {},
   "outputs": [],
   "source": [
    "import sys\n",
    "sys.path.append(\"..\")\n",
    "from fastai_imports import *"
   ]
  },
  {
   "cell_type": "code",
   "execution_count": 3,
   "metadata": {},
   "outputs": [],
   "source": [
    "torch.cuda.set_device(1)"
   ]
  },
  {
   "cell_type": "code",
   "execution_count": 4,
   "metadata": {},
   "outputs": [],
   "source": [
    "archs = [resnet18, resnet34, resnet50, resnet101]\n",
    "szes = [128, 224]"
   ]
  },
  {
   "cell_type": "code",
   "execution_count": 5,
   "metadata": {},
   "outputs": [],
   "source": [
    "def train(arch, sz, pt, bs, PATH):\n",
    "    print(\"training for arch: \"+arch.__name__+\", image_size: \"+str(sz)+\", pretrained: \"+str(pt))\n",
    "    data = ImageClassifierData.from_csv(PATH, \"train\", PATH+\"train.csv\", bs, tfms=tfms_from_model(arch, sz))\n",
    "    learn = ConvLearner.pretrained(arch, data, precompute=True, pretrained=pt)\n",
    "    learn.fit(1.e-2, 5)\n",
    "    learn.unfreeze()\n",
    "    lrs = np.array([1.e-4, 1.e-3, 1.e-2])\n",
    "    learn.fit(lrs, 5, cycle_len=1)"
   ]
  },
  {
   "cell_type": "code",
   "execution_count": 6,
   "metadata": {},
   "outputs": [
    {
     "name": "stdout",
     "output_type": "stream",
     "text": [
      "training for arch: resnet18, image_size: 128, pretrained: True\n"
     ]
    },
    {
     "data": {
      "application/vnd.jupyter.widget-view+json": {
       "model_id": "8b52b5a1d01f4f9fabf36081683238f0",
       "version_major": 2,
       "version_minor": 0
      },
      "text/plain": [
       "HBox(children=(IntProgress(value=0, description='Epoch', max=5), HTML(value='')))"
      ]
     },
     "metadata": {},
     "output_type": "display_data"
    },
    {
     "name": "stdout",
     "output_type": "stream",
     "text": [
      "epoch      trn_loss   val_loss   accuracy   \n",
      "    0      1.246012   0.883718   0.720289  \n",
      "    1      1.089298   0.801799   0.739749  \n",
      "    2      1.008607   0.759301   0.754643  \n",
      "    3      0.959697   0.728205   0.763642  \n",
      "    4      0.952186   0.720277   0.763598  \n",
      "\n"
     ]
    },
    {
     "data": {
      "application/vnd.jupyter.widget-view+json": {
       "model_id": "af773e01a04341dc875b099262ff4268",
       "version_major": 2,
       "version_minor": 0
      },
      "text/plain": [
       "HBox(children=(IntProgress(value=0, description='Epoch', max=5), HTML(value='')))"
      ]
     },
     "metadata": {},
     "output_type": "display_data"
    },
    {
     "name": "stdout",
     "output_type": "stream",
     "text": [
      "epoch      trn_loss   val_loss   accuracy   \n",
      "    0      0.945815   0.673725   0.781019  \n",
      "    1      0.895569   0.666876   0.780974  \n",
      "    2      0.857131   0.657604   0.784299  \n",
      "    3      0.854087   0.654393   0.786471  \n",
      "    4      0.810362   0.652391   0.787624  \n",
      "\n",
      "training for arch: resnet34, image_size: 128, pretrained: True\n"
     ]
    },
    {
     "data": {
      "application/vnd.jupyter.widget-view+json": {
       "model_id": "a2313983777843e4998ba5efd0b82ce9",
       "version_major": 2,
       "version_minor": 0
      },
      "text/plain": [
       "HBox(children=(IntProgress(value=0, description='Epoch', max=5), HTML(value='')))"
      ]
     },
     "metadata": {},
     "output_type": "display_data"
    },
    {
     "name": "stdout",
     "output_type": "stream",
     "text": [
      "epoch      trn_loss   val_loss   accuracy   \n",
      "    0      1.196001   0.864008   0.727825  \n",
      "    1      1.067173   0.7663     0.752072  \n",
      "    2      1.00504    0.721542   0.762888  \n",
      "    3      0.91782    0.701164   0.770868  \n",
      "    4      0.913351   0.678937   0.77366   \n",
      "\n"
     ]
    },
    {
     "data": {
      "application/vnd.jupyter.widget-view+json": {
       "model_id": "67c734c421404f8499a015a7a6048ee7",
       "version_major": 2,
       "version_minor": 0
      },
      "text/plain": [
       "HBox(children=(IntProgress(value=0, description='Epoch', max=5), HTML(value='')))"
      ]
     },
     "metadata": {},
     "output_type": "display_data"
    },
    {
     "name": "stdout",
     "output_type": "stream",
     "text": [
      "epoch      trn_loss   val_loss   accuracy   \n",
      "    0      0.863324   0.651541   0.786826  \n",
      "    1      0.863272   0.640835   0.790549  \n",
      "    2      0.801037   0.638558   0.790372  \n",
      "    3      0.811628   0.628295   0.792145  \n",
      "    4      0.80525    0.622357   0.795957  \n",
      "\n",
      "training for arch: resnet50, image_size: 128, pretrained: True\n"
     ]
    },
    {
     "data": {
      "application/vnd.jupyter.widget-view+json": {
       "model_id": "db94b00b7f95405ab71fd02978ae8e11",
       "version_major": 2,
       "version_minor": 0
      },
      "text/plain": [
       "HBox(children=(IntProgress(value=0, description='Epoch', max=5), HTML(value='')))"
      ]
     },
     "metadata": {},
     "output_type": "display_data"
    },
    {
     "name": "stdout",
     "output_type": "stream",
     "text": [
      "epoch      trn_loss   val_loss   accuracy   \n",
      "    0      0.917911   0.683209   0.774192  \n",
      "    1      0.797245   0.61598    0.794539  \n",
      "    2      0.720698   0.578547   0.806685  \n",
      "    3      0.683229   0.560106   0.811871  \n",
      "    4      0.665455   0.541332   0.818653  \n",
      "\n"
     ]
    },
    {
     "data": {
      "application/vnd.jupyter.widget-view+json": {
       "model_id": "f212183a1a354225879f8e968c9459e5",
       "version_major": 2,
       "version_minor": 0
      },
      "text/plain": [
       "HBox(children=(IntProgress(value=0, description='Epoch', max=5), HTML(value='')))"
      ]
     },
     "metadata": {},
     "output_type": "display_data"
    },
    {
     "name": "stdout",
     "output_type": "stream",
     "text": [
      "epoch      trn_loss   val_loss   accuracy   \n",
      "    0      0.566048   0.511531   0.827696  \n",
      "    1      0.556645   0.504049   0.829292  \n",
      "    2      0.545784   0.50279    0.830356  \n",
      "    3      0.542132   0.494493   0.832971  \n",
      "    4      0.56526    0.493818   0.832661  \n",
      "\n",
      "training for arch: resnet101, image_size: 128, pretrained: True\n"
     ]
    },
    {
     "data": {
      "application/vnd.jupyter.widget-view+json": {
       "model_id": "c3fcfa529b194c7e93b55b73f4436abd",
       "version_major": 2,
       "version_minor": 0
      },
      "text/plain": [
       "HBox(children=(IntProgress(value=0, description='Epoch', max=5), HTML(value='')))"
      ]
     },
     "metadata": {},
     "output_type": "display_data"
    },
    {
     "name": "stdout",
     "output_type": "stream",
     "text": [
      "epoch      trn_loss   val_loss   accuracy   \n",
      "    0      0.999625   0.735064   0.76116   \n",
      "    1      0.888512   0.648343   0.78882   \n",
      "    2      0.783793   0.602958   0.799681  \n",
      "    3      0.706131   0.586768   0.807704  \n",
      "    4      0.71678    0.569592   0.81032   \n",
      "\n"
     ]
    },
    {
     "data": {
      "application/vnd.jupyter.widget-view+json": {
       "model_id": "9d86f37a950a49498f1a23b946fa0969",
       "version_major": 2,
       "version_minor": 0
      },
      "text/plain": [
       "HBox(children=(IntProgress(value=0, description='Epoch', max=5), HTML(value='')))"
      ]
     },
     "metadata": {},
     "output_type": "display_data"
    },
    {
     "name": "stdout",
     "output_type": "stream",
     "text": [
      "epoch      trn_loss   val_loss   accuracy   \n",
      "    0      0.611907   0.53014    0.825037  \n",
      "    1      0.579564   0.526471   0.824638  \n",
      "    2      0.591925   0.523218   0.827076  \n",
      "    3      0.55555    0.519812   0.827962  \n",
      "    4      0.550445   0.515851   0.827829  \n",
      "\n",
      "training for arch: resnet18, image_size: 224, pretrained: True\n"
     ]
    },
    {
     "data": {
      "application/vnd.jupyter.widget-view+json": {
       "model_id": "70506b80f78f4d049cfe919ba4f189a4",
       "version_major": 2,
       "version_minor": 0
      },
      "text/plain": [
       "HBox(children=(IntProgress(value=0, description='Epoch', max=5), HTML(value='')))"
      ]
     },
     "metadata": {},
     "output_type": "display_data"
    },
    {
     "name": "stdout",
     "output_type": "stream",
     "text": [
      "epoch      trn_loss   val_loss   accuracy   \n",
      "    0      1.097617   0.75685    0.759121  \n",
      "    1      0.955446   0.690119   0.777783  \n",
      "    2      0.891112   0.647945   0.789751  \n",
      "    3      0.858462   0.626884   0.793785  \n",
      "    4      0.780632   0.60354    0.802961  \n",
      "\n"
     ]
    },
    {
     "data": {
      "application/vnd.jupyter.widget-view+json": {
       "model_id": "860b6b7d91ba475a97dc7cf343d295e4",
       "version_major": 2,
       "version_minor": 0
      },
      "text/plain": [
       "HBox(children=(IntProgress(value=0, description='Epoch', max=5), HTML(value='')))"
      ]
     },
     "metadata": {},
     "output_type": "display_data"
    },
    {
     "name": "stdout",
     "output_type": "stream",
     "text": [
      "epoch      trn_loss   val_loss   accuracy   \n",
      "    0      0.748893   0.58128    0.811206  \n",
      "    1      0.735768   0.572518   0.812048  \n",
      "    2      0.712221   0.567338   0.815018  \n",
      "    3      0.730239   0.562229   0.816171  \n",
      "    4      0.670411   0.558857   0.817368  \n",
      "\n",
      "training for arch: resnet34, image_size: 224, pretrained: True\n"
     ]
    },
    {
     "data": {
      "application/vnd.jupyter.widget-view+json": {
       "model_id": "39412fa1d9124bb099938c46b15c3dea",
       "version_major": 2,
       "version_minor": 0
      },
      "text/plain": [
       "HBox(children=(IntProgress(value=0, description='Epoch', max=5), HTML(value='')))"
      ]
     },
     "metadata": {},
     "output_type": "display_data"
    },
    {
     "name": "stdout",
     "output_type": "stream",
     "text": [
      "epoch      trn_loss   val_loss   accuracy   \n",
      "    0      1.066634   0.811812   0.740769  \n",
      "    1      0.990705   0.727323   0.765459  \n",
      "    2      0.91077    0.691176   0.773394  \n",
      "    3      0.838553   0.663531   0.780487  \n",
      "    4      0.826775   0.647029   0.788023  \n",
      "\n"
     ]
    },
    {
     "data": {
      "application/vnd.jupyter.widget-view+json": {
       "model_id": "f737f2cdbb7f4cfc8e5a73d8c0293d2e",
       "version_major": 2,
       "version_minor": 0
      },
      "text/plain": [
       "HBox(children=(IntProgress(value=0, description='Epoch', max=5), HTML(value='')))"
      ]
     },
     "metadata": {},
     "output_type": "display_data"
    },
    {
     "name": "stdout",
     "output_type": "stream",
     "text": [
      "epoch      trn_loss   val_loss   accuracy   \n",
      "    0      0.793856   0.612816   0.800168  \n",
      "    1      0.751198   0.607469   0.80172   \n",
      "    2      0.740525   0.602059   0.80469   \n",
      "    3      0.769387   0.594765   0.804158  \n",
      "    4      0.720289   0.595003   0.804025  \n",
      "\n",
      "training for arch: resnet50, image_size: 224, pretrained: True\n"
     ]
    },
    {
     "data": {
      "application/vnd.jupyter.widget-view+json": {
       "model_id": "6d9f41720c674ebcbefd8541834dafa0",
       "version_major": 2,
       "version_minor": 0
      },
      "text/plain": [
       "HBox(children=(IntProgress(value=0, description='Epoch', max=5), HTML(value='')))"
      ]
     },
     "metadata": {},
     "output_type": "display_data"
    },
    {
     "name": "stdout",
     "output_type": "stream",
     "text": [
      "epoch      trn_loss   val_loss   accuracy   \n",
      "    0      0.876324   0.659688   0.780753  \n",
      "    1      0.74347    0.588569   0.803271  \n",
      "    2      0.711947   0.550513   0.817678  \n",
      "    3      0.690384   0.531909   0.818166  \n",
      "    4      0.630158   0.523467   0.823751  \n",
      "\n"
     ]
    },
    {
     "data": {
      "application/vnd.jupyter.widget-view+json": {
       "model_id": "59884942b565491ebd48e485676f9a93",
       "version_major": 2,
       "version_minor": 0
      },
      "text/plain": [
       "HBox(children=(IntProgress(value=0, description='Epoch', max=5), HTML(value='')))"
      ]
     },
     "metadata": {},
     "output_type": "display_data"
    },
    {
     "name": "stdout",
     "output_type": "stream",
     "text": [
      "epoch      trn_loss   val_loss   accuracy   \n",
      "    0      0.513112   0.491059   0.833902  \n",
      "    1      0.532486   0.486239   0.836296  \n",
      "    2      0.493613   0.481264   0.838113  \n",
      "    3      0.528279   0.47815    0.839089  \n",
      "    4      0.53272    0.475007   0.839     \n",
      "\n",
      "training for arch: resnet101, image_size: 224, pretrained: True\n"
     ]
    },
    {
     "data": {
      "application/vnd.jupyter.widget-view+json": {
       "model_id": "a44252ac278046e1941bbc50336371bc",
       "version_major": 2,
       "version_minor": 0
      },
      "text/plain": [
       "HBox(children=(IntProgress(value=0, description='Epoch', max=5), HTML(value='')))"
      ]
     },
     "metadata": {},
     "output_type": "display_data"
    },
    {
     "name": "stdout",
     "output_type": "stream",
     "text": [
      "epoch      trn_loss   val_loss   accuracy   \n",
      "    0      0.938066   0.678533   0.777694  \n",
      "    1      0.795392   0.614507   0.793076  \n",
      "    2      0.695356   0.572171   0.808413  \n",
      "    3      0.669773   0.553543   0.814797  \n",
      "    4      0.654389   0.533051   0.821003  \n",
      "\n"
     ]
    },
    {
     "data": {
      "application/vnd.jupyter.widget-view+json": {
       "model_id": "53a84332bd214b9d9667704929b1489e",
       "version_major": 2,
       "version_minor": 0
      },
      "text/plain": [
       "HBox(children=(IntProgress(value=0, description='Epoch', max=5), HTML(value='')))"
      ]
     },
     "metadata": {},
     "output_type": "display_data"
    },
    {
     "name": "stdout",
     "output_type": "stream",
     "text": [
      "epoch      trn_loss   val_loss   accuracy   \n",
      "    0      0.554678   0.504824   0.829647  \n",
      "    1      0.581116   0.499393   0.83204   \n",
      "    2      0.536312   0.498304   0.83142   \n",
      "    3      0.517615   0.49023    0.835188  \n",
      "    4      0.518551   0.488544   0.837138  \n",
      "\n"
     ]
    }
   ],
   "source": [
    "for sz in szes:\n",
    "    for arch in archs:\n",
    "        train(arch, sz, pt=True, bs=32, PATH=\"/home/apil/work/emnist/\" )"
   ]
  },
  {
   "cell_type": "code",
   "execution_count": 10,
   "metadata": {},
   "outputs": [],
   "source": [
    "ar = resnet18"
   ]
  },
  {
   "cell_type": "code",
   "execution_count": 11,
   "metadata": {},
   "outputs": [
    {
     "data": {
      "text/plain": [
       "'resnet18'"
      ]
     },
     "execution_count": 11,
     "metadata": {},
     "output_type": "execute_result"
    }
   ],
   "source": [
    "ar.__name__"
   ]
  },
  {
   "cell_type": "code",
   "execution_count": null,
   "metadata": {},
   "outputs": [],
   "source": []
  }
 ],
 "metadata": {
  "kernelspec": {
   "display_name": "Python 3",
   "language": "python",
   "name": "python3"
  },
  "language_info": {
   "codemirror_mode": {
    "name": "ipython",
    "version": 3
   },
   "file_extension": ".py",
   "mimetype": "text/x-python",
   "name": "python",
   "nbconvert_exporter": "python",
   "pygments_lexer": "ipython3",
   "version": "3.6.5"
  }
 },
 "nbformat": 4,
 "nbformat_minor": 2
}
