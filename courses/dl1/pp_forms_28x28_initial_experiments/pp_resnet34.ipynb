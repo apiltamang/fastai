{
 "cells": [
  {
   "cell_type": "code",
   "execution_count": 1,
   "metadata": {},
   "outputs": [],
   "source": [
    "# Put these at the top of every notebook, to get automatic reloading and inline plotting\n",
    "%reload_ext autoreload\n",
    "%autoreload 2\n",
    "%matplotlib inline\n",
    "from fastai.imports import *\n",
    "from fastai.transforms import *\n",
    "from fastai.conv_learner import *\n",
    "from fastai.model import *\n",
    "from fastai.dataset import *\n",
    "from fastai.sgdr import *\n",
    "from fastai.plots import *"
   ]
  },
  {
   "cell_type": "code",
   "execution_count": 2,
   "metadata": {},
   "outputs": [
    {
     "data": {
      "text/plain": [
       "True"
      ]
     },
     "execution_count": 2,
     "metadata": {},
     "output_type": "execute_result"
    }
   ],
   "source": [
    "torch.cuda.is_available()"
   ]
  },
  {
   "cell_type": "code",
   "execution_count": 13,
   "metadata": {},
   "outputs": [],
   "source": [
    "arch = resnet18"
   ]
  },
  {
   "cell_type": "code",
   "execution_count": 14,
   "metadata": {},
   "outputs": [],
   "source": [
    "sz = 28\n",
    "bs = 16"
   ]
  },
  {
   "cell_type": "code",
   "execution_count": 1,
   "metadata": {},
   "outputs": [],
   "source": [
    "PATH = \"/home/apil/work/forms\""
   ]
  },
  {
   "cell_type": "code",
   "execution_count": 16,
   "metadata": {},
   "outputs": [],
   "source": [
    "tfms = tfms_from_model(arch, sz, aug_tfms=[RandomScale(sz, max_zoom=1.0)], pad=sz//7)"
   ]
  },
  {
   "cell_type": "code",
   "execution_count": 17,
   "metadata": {},
   "outputs": [],
   "source": [
    "data = ImageClassifierData.from_csv(PATH, 'train', PATH+'/train.csv', tfms=tfms, bs=bs)"
   ]
  },
  {
   "cell_type": "code",
   "execution_count": 18,
   "metadata": {},
   "outputs": [
    {
     "name": "stdout",
     "output_type": "stream",
     "text": [
      "100%|██████████| 933/933 [00:30<00:00, 30.75it/s]\n",
      "100%|██████████| 234/234 [00:07<00:00, 31.45it/s]\n"
     ]
    }
   ],
   "source": [
    "learn = ConvLearner.pretrained(arch, data, precompute=True)"
   ]
  },
  {
   "cell_type": "code",
   "execution_count": 24,
   "metadata": {},
   "outputs": [],
   "source": [
    "foo = data.val_ds[0]"
   ]
  },
  {
   "cell_type": "code",
   "execution_count": 27,
   "metadata": {},
   "outputs": [
    {
     "data": {
      "text/plain": [
       "(3, 28, 28)"
      ]
     },
     "execution_count": 27,
     "metadata": {},
     "output_type": "execute_result"
    }
   ],
   "source": [
    "foo[0].shape"
   ]
  },
  {
   "cell_type": "code",
   "execution_count": null,
   "metadata": {},
   "outputs": [],
   "source": [
    "lrf = learn.lr_find()"
   ]
  },
  {
   "cell_type": "code",
   "execution_count": null,
   "metadata": {},
   "outputs": [],
   "source": [
    "learn.sched.plot()"
   ]
  },
  {
   "cell_type": "code",
   "execution_count": null,
   "metadata": {},
   "outputs": [],
   "source": [
    "learn.fit(1e-2,3)"
   ]
  },
  {
   "cell_type": "code",
   "execution_count": 19,
   "metadata": {},
   "outputs": [
    {
     "data": {
      "application/vnd.jupyter.widget-view+json": {
       "model_id": "d2d77b911b46487e95a16510ec748f62",
       "version_major": 2,
       "version_minor": 0
      },
      "text/plain": [
       "HBox(children=(IntProgress(value=0, description='Epoch', max=20), HTML(value='')))"
      ]
     },
     "metadata": {},
     "output_type": "display_data"
    },
    {
     "name": "stdout",
     "output_type": "stream",
     "text": [
      "epoch      trn_loss   val_loss   accuracy   \n",
      "    0      2.174803   1.62974    0.529633  \n",
      "    1      1.904433   1.505199   0.556986  \n",
      "    2      1.710897   1.438411   0.576562  \n",
      "    3      1.631634   1.36093    0.606329  \n",
      "    4      1.670146   1.329548   0.608742  \n",
      "    5      1.546508   1.290611   0.622687  \n",
      "    6      1.507796   1.257441   0.623223  \n",
      "    7      1.501839   1.233843   0.630196  \n",
      "    8      1.507143   1.257123   0.625101  \n",
      "    9      1.491185   1.196097   0.644677  \n",
      "    10     1.502541   1.236722   0.635559  \n",
      "    11     1.387484   1.196732   0.642532  \n",
      "    12     1.473499   1.220479   0.640922  \n",
      "    13     1.331315   1.182293   0.647895  \n",
      "    14     1.401199   1.208641   0.649772  \n",
      "    15     1.35824    1.16499    0.652186  \n",
      "    16     1.346826   1.185548   0.64575   \n",
      "    17     1.26897    1.135994   0.654063  \n",
      "    18     1.356464   1.184525   0.64575   \n",
      "    19     1.284322   1.153804   0.661303  \n",
      "\n"
     ]
    },
    {
     "data": {
      "text/plain": [
       "[array([1.1538]), 0.6613032984714401]"
      ]
     },
     "execution_count": 19,
     "metadata": {},
     "output_type": "execute_result"
    }
   ],
   "source": [
    "learn.fit(1e-2, 10,cycle_len=2)"
   ]
  },
  {
   "cell_type": "code",
   "execution_count": 20,
   "metadata": {},
   "outputs": [
    {
     "data": {
      "application/vnd.jupyter.widget-view+json": {
       "model_id": "7ac88e8adeb64dc4872cd66d7c14a19d",
       "version_major": 2,
       "version_minor": 0
      },
      "text/plain": [
       "HBox(children=(IntProgress(value=0, description='Epoch', max=10), HTML(value='')))"
      ]
     },
     "metadata": {},
     "output_type": "display_data"
    },
    {
     "name": "stdout",
     "output_type": "stream",
     "text": [
      "epoch      trn_loss   val_loss   accuracy   \n",
      "    0      1.357594   1.15573    0.651113  \n",
      "    1      1.237994   1.159143   0.654867  \n",
      "    2      1.353695   1.163251   0.653795  \n",
      "    3      1.171494   1.134068   0.655672  \n",
      "    4      1.28666    1.177122   0.65594   \n",
      "    5      1.178477   1.124298   0.66184   \n",
      "    6      1.35104    1.150378   0.65594   \n",
      "    7      1.096002   1.146722   0.660499  \n",
      "    8      1.190086   1.131852   0.662108  \n",
      "    9      1.241557   1.12627    0.671762  \n",
      "\n"
     ]
    },
    {
     "data": {
      "text/plain": [
       "[array([1.12627]), 0.671761866452132]"
      ]
     },
     "execution_count": 20,
     "metadata": {},
     "output_type": "execute_result"
    }
   ],
   "source": [
    "learn.fit(1e-2, 5,cycle_len=2)"
   ]
  },
  {
   "cell_type": "code",
   "execution_count": 21,
   "metadata": {},
   "outputs": [],
   "source": [
    "learn.unfreeze()"
   ]
  },
  {
   "cell_type": "code",
   "execution_count": 22,
   "metadata": {},
   "outputs": [],
   "source": [
    "lr=np.array([1e-4,1e-3,1e-2])"
   ]
  },
  {
   "cell_type": "code",
   "execution_count": 23,
   "metadata": {},
   "outputs": [
    {
     "data": {
      "application/vnd.jupyter.widget-view+json": {
       "model_id": "f392a39566f547f895688bb90efe8353",
       "version_major": 2,
       "version_minor": 0
      },
      "text/plain": [
       "HBox(children=(IntProgress(value=0, description='Epoch', max=7), HTML(value='')))"
      ]
     },
     "metadata": {},
     "output_type": "display_data"
    },
    {
     "name": "stdout",
     "output_type": "stream",
     "text": [
      "epoch      trn_loss   val_loss   accuracy   \n",
      "    0      1.9374     1.537427   0.580048  \n",
      "    1      1.890617   1.591301   0.572003  \n",
      "    2      1.827262   1.517674   0.593993  \n",
      "    3      1.805211   1.601863   0.565567  \n",
      "    4      1.591521   1.558327   0.576294  \n",
      "    5      1.586447   1.536652   0.578439  \n",
      "    6      1.577541   1.625094   0.568517  \n",
      "\n"
     ]
    },
    {
     "data": {
      "text/plain": [
       "[array([1.62509]), 0.5685170286940199]"
      ]
     },
     "execution_count": 23,
     "metadata": {},
     "output_type": "execute_result"
    }
   ],
   "source": [
    "learn.fit(lr, 3, cycle_len=1, cycle_mult=2)"
   ]
  },
  {
   "cell_type": "code",
   "execution_count": null,
   "metadata": {},
   "outputs": [],
   "source": []
  }
 ],
 "metadata": {
  "kernelspec": {
   "display_name": "Python 3",
   "language": "python",
   "name": "python3"
  },
  "language_info": {
   "codemirror_mode": {
    "name": "ipython",
    "version": 3
   },
   "file_extension": ".py",
   "mimetype": "text/x-python",
   "name": "python",
   "nbconvert_exporter": "python",
   "pygments_lexer": "ipython3",
   "version": "3.6.5"
  }
 },
 "nbformat": 4,
 "nbformat_minor": 2
}
