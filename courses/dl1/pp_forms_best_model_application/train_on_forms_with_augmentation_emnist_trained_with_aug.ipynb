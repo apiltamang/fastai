{
 "cells": [
  {
   "cell_type": "markdown",
   "metadata": {},
   "source": [
    "## Using the best EMNIST model, and fitting on forms\n",
    "This time around, using data augmentation on the forms dataset"
   ]
  },
  {
   "cell_type": "code",
   "execution_count": 1,
   "metadata": {},
   "outputs": [],
   "source": [
    "import torch"
   ]
  },
  {
   "cell_type": "code",
   "execution_count": 2,
   "metadata": {},
   "outputs": [],
   "source": [
    "torch.cuda.set_device(0)"
   ]
  },
  {
   "cell_type": "code",
   "execution_count": 3,
   "metadata": {},
   "outputs": [],
   "source": [
    "FORMS_PATH = \"/home/apil/work/forms\""
   ]
  },
  {
   "cell_type": "code",
   "execution_count": 4,
   "metadata": {},
   "outputs": [],
   "source": [
    "import sys; sys.path.append(\"..\")"
   ]
  },
  {
   "cell_type": "code",
   "execution_count": 5,
   "metadata": {},
   "outputs": [],
   "source": [
    "from fastai_imports import *"
   ]
  },
  {
   "cell_type": "code",
   "execution_count": 6,
   "metadata": {},
   "outputs": [],
   "source": [
    "arch = resnet50\n",
    "sz = 224\n",
    "bs = 32"
   ]
  },
  {
   "cell_type": "code",
   "execution_count": 7,
   "metadata": {},
   "outputs": [],
   "source": [
    "aug_tfms = [RandomRotateZoom(deg=10, zoom=0.9, stretch=0.1), GoogleNetResize(sz)]"
   ]
  },
  {
   "cell_type": "code",
   "execution_count": 8,
   "metadata": {},
   "outputs": [],
   "source": [
    "data = ImageClassifierData.from_csv(FORMS_PATH, \"train\", FORMS_PATH+\"/train.csv\", bs, tfms = tfms_from_model(arch, sz, aug_tfms))"
   ]
  },
  {
   "cell_type": "code",
   "execution_count": 9,
   "metadata": {},
   "outputs": [],
   "source": [
    "learn = ConvLearner.pretrained(arch, data, precompute=False, pretrained=True)"
   ]
  },
  {
   "cell_type": "code",
   "execution_count": 10,
   "metadata": {},
   "outputs": [],
   "source": [
    "learn.load('resnet50_train_on_emnist_with_aug_best_yet_acc_88.1')"
   ]
  },
  {
   "cell_type": "code",
   "execution_count": 11,
   "metadata": {},
   "outputs": [
    {
     "data": {
      "application/vnd.jupyter.widget-view+json": {
       "model_id": "b9666b3872434e91af18738b8d70bc63",
       "version_major": 2,
       "version_minor": 0
      },
      "text/plain": [
       "HBox(children=(IntProgress(value=0, description='Epoch', max=5), HTML(value='')))"
      ]
     },
     "metadata": {},
     "output_type": "display_data"
    },
    {
     "name": "stdout",
     "output_type": "stream",
     "text": [
      "epoch      trn_loss   val_loss   accuracy   \n",
      "    0      1.507444   1.046352   0.697363  \n",
      "    1      1.443474   0.932937   0.722151  \n",
      "    2      1.416763   0.894886   0.734395  \n",
      "    3      1.402379   0.857094   0.743183  \n",
      "    4      1.412136   0.824179   0.751897  \n",
      "\n"
     ]
    }
   ],
   "source": [
    "learn.fit(1.e-2,5)\n",
    "learn.save(\"resnet50_fit_on_forms_using_data_aug\")"
   ]
  },
  {
   "cell_type": "code",
   "execution_count": 12,
   "metadata": {},
   "outputs": [
    {
     "data": {
      "application/vnd.jupyter.widget-view+json": {
       "model_id": "9ca5d1db06da42a5b8b4ac6398dadc89",
       "version_major": 2,
       "version_minor": 0
      },
      "text/plain": [
       "HBox(children=(IntProgress(value=0, description='Epoch', max=5), HTML(value='')))"
      ]
     },
     "metadata": {},
     "output_type": "display_data"
    },
    {
     "name": "stdout",
     "output_type": "stream",
     "text": [
      "epoch      trn_loss   val_loss   accuracy   \n",
      "    0      1.305275   0.538697   0.831668  \n",
      "    1      1.20126    0.490846   0.844363  \n",
      "    2      1.317873   0.446751   0.856381  \n",
      "    3      1.286083   0.416257   0.862916  \n",
      "    4      1.223653   0.395828   0.871028  \n",
      "\n"
     ]
    }
   ],
   "source": [
    "learn.unfreeze()\n",
    "lrs = np.array([1.e-4, 1.e-3, 1.e-2])\n",
    "learn.fit(lrs, 5, cycle_len=1)\n",
    "learn.save(\"resnet50_train_forms_use_data_aug_variable_lr\")"
   ]
  },
  {
   "cell_type": "code",
   "execution_count": 23,
   "metadata": {},
   "outputs": [],
   "source": []
  },
  {
   "cell_type": "code",
   "execution_count": 13,
   "metadata": {},
   "outputs": [
    {
     "data": {
      "application/vnd.jupyter.widget-view+json": {
       "model_id": "9c78c815fbcb4dca9e2a67ec06515128",
       "version_major": 2,
       "version_minor": 0
      },
      "text/plain": [
       "HBox(children=(IntProgress(value=0, description='Epoch', max=5), HTML(value='')))"
      ]
     },
     "metadata": {},
     "output_type": "display_data"
    },
    {
     "name": "stdout",
     "output_type": "stream",
     "text": [
      "epoch      trn_loss   val_loss   accuracy   \n",
      "    0      1.238723   0.382285   0.87531   \n",
      "    1      1.278975   0.367345   0.879967  \n",
      "    2      1.23177    0.363658   0.877563  \n",
      "    3      1.286954   0.354244   0.879817  \n",
      "    4      1.234504   0.33746    0.884474  \n",
      "\n"
     ]
    }
   ],
   "source": [
    "lrs = np.array([1.e-2, 1.e-2, 1.e-2])\n",
    "learn.fit(lrs,5, cycle_len=1)\n",
    "learn.save(\"resnet50_train_forms_use_same_lrs\")"
   ]
  },
  {
   "cell_type": "code",
   "execution_count": 17,
   "metadata": {},
   "outputs": [
    {
     "data": {
      "application/vnd.jupyter.widget-view+json": {
       "model_id": "78226300a2c3482a87349c107cc559d7",
       "version_major": 2,
       "version_minor": 0
      },
      "text/plain": [
       "HBox(children=(IntProgress(value=0, description='Epoch', max=5), HTML(value='')))"
      ]
     },
     "metadata": {},
     "output_type": "display_data"
    },
    {
     "name": "stdout",
     "output_type": "stream",
     "text": [
      "epoch      trn_loss   val_loss   accuracy   \n",
      "    0      1.129482   0.307102   0.894164  \n",
      "    1      1.123875   0.31031    0.892661  \n",
      "    2      1.113092   0.311307   0.89176   \n",
      "    3      1.156372   0.305376   0.893863  \n",
      "    4      1.116449   0.310047   0.89161   \n",
      "\n"
     ]
    }
   ],
   "source": [
    "lrs = lrs/10\n",
    "learn.fit(lrs, 5, cycle_len=1)\n",
    "learn.save(\"resnet50_train_forms_small_same_lrs\")"
   ]
  },
  {
   "cell_type": "code",
   "execution_count": 18,
   "metadata": {},
   "outputs": [
    {
     "data": {
      "application/vnd.jupyter.widget-view+json": {
       "model_id": "108c1759e156449dbc93012aaef79019",
       "version_major": 2,
       "version_minor": 0
      },
      "text/plain": [
       "HBox(children=(IntProgress(value=0, description='Epoch', max=5), HTML(value='')))"
      ]
     },
     "metadata": {},
     "output_type": "display_data"
    },
    {
     "name": "stdout",
     "output_type": "stream",
     "text": [
      "epoch      trn_loss   val_loss   accuracy   \n",
      "    0      1.128548   0.311423   0.891835  \n",
      "    1      1.104045   0.307332   0.893713  \n",
      "    2      1.136322   0.309205   0.892887  \n",
      "    3      1.194026   0.305479   0.894915  \n",
      "    4      1.092323   0.307729   0.892436  \n",
      "\n"
     ]
    },
    {
     "data": {
      "text/plain": [
       "[array([0.30773]), 0.8924359648463908]"
      ]
     },
     "execution_count": 18,
     "metadata": {},
     "output_type": "execute_result"
    }
   ],
   "source": [
    "learn.fit(lrs, 5, cycle_len=1)"
   ]
  },
  {
   "cell_type": "code",
   "execution_count": null,
   "metadata": {},
   "outputs": [],
   "source": []
  }
 ],
 "metadata": {
  "kernelspec": {
   "display_name": "Python 3",
   "language": "python",
   "name": "python3"
  },
  "language_info": {
   "codemirror_mode": {
    "name": "ipython",
    "version": 3
   },
   "file_extension": ".py",
   "mimetype": "text/x-python",
   "name": "python",
   "nbconvert_exporter": "python",
   "pygments_lexer": "ipython3",
   "version": "3.6.5"
  }
 },
 "nbformat": 4,
 "nbformat_minor": 2
}
