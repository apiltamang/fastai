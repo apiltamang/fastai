{
 "cells": [
  {
   "cell_type": "markdown",
   "metadata": {},
   "source": [
    "## Using the best EMNIST model, and fitting on forms"
   ]
  },
  {
   "cell_type": "code",
   "execution_count": 1,
   "metadata": {},
   "outputs": [],
   "source": [
    "FORMS_PATH = \"/home/apil/work/forms\""
   ]
  },
  {
   "cell_type": "code",
   "execution_count": 2,
   "metadata": {},
   "outputs": [],
   "source": [
    "import sys; sys.path.append(\"..\")"
   ]
  },
  {
   "cell_type": "code",
   "execution_count": 3,
   "metadata": {},
   "outputs": [],
   "source": [
    "from fastai_imports import *"
   ]
  },
  {
   "cell_type": "code",
   "execution_count": 4,
   "metadata": {},
   "outputs": [],
   "source": [
    "arch = resnet50\n",
    "sz = 224\n",
    "bs = 32\n",
    "pretrained = True"
   ]
  },
  {
   "cell_type": "code",
   "execution_count": 5,
   "metadata": {},
   "outputs": [],
   "source": [
    "data = ImageClassifierData.from_csv(FORMS_PATH, \"train\", FORMS_PATH+\"/train.csv\", bs, tfms = tfms_from_model(arch, sz))"
   ]
  },
  {
   "cell_type": "code",
   "execution_count": 6,
   "metadata": {},
   "outputs": [],
   "source": [
    "learn = ConvLearner.pretrained(arch, data, precompute=False, pretrained=True)"
   ]
  },
  {
   "cell_type": "code",
   "execution_count": 8,
   "metadata": {},
   "outputs": [],
   "source": [
    "learn.load('resnet50_train_final_on_emnist')"
   ]
  },
  {
   "cell_type": "code",
   "execution_count": 9,
   "metadata": {},
   "outputs": [
    {
     "data": {
      "application/vnd.jupyter.widget-view+json": {
       "model_id": "5b1df83e649042bfbcfd49e886c88ce7",
       "version_major": 2,
       "version_minor": 0
      },
      "text/plain": [
       "HBox(children=(IntProgress(value=0, description='Epoch', max=3), HTML(value='')))"
      ]
     },
     "metadata": {},
     "output_type": "display_data"
    },
    {
     "name": "stdout",
     "output_type": "stream",
     "text": [
      "epoch      trn_loss   val_loss   accuracy   \n",
      "    0      1.399652   1.051877   0.696387  \n",
      "    1      1.258898   0.960576   0.71479   \n",
      "    2      1.147614   0.911145   0.727785  \n",
      "\n"
     ]
    },
    {
     "data": {
      "text/plain": [
       "[array([0.91115]), 0.7277848719296928]"
      ]
     },
     "execution_count": 9,
     "metadata": {},
     "output_type": "execute_result"
    }
   ],
   "source": [
    "learn.fit(1.e-2, 3)"
   ]
  },
  {
   "cell_type": "code",
   "execution_count": 10,
   "metadata": {},
   "outputs": [
    {
     "data": {
      "application/vnd.jupyter.widget-view+json": {
       "model_id": "72c53df3338c4e349d457e61ec27b30e",
       "version_major": 2,
       "version_minor": 0
      },
      "text/plain": [
       "HBox(children=(IntProgress(value=0, description='Epoch', max=5), HTML(value='')))"
      ]
     },
     "metadata": {},
     "output_type": "display_data"
    },
    {
     "name": "stdout",
     "output_type": "stream",
     "text": [
      "epoch      trn_loss   val_loss   accuracy   \n",
      "    0      1.090112   0.890665   0.733418  \n",
      "    1      1.042317   0.860815   0.739503  \n",
      "    2      0.994438   0.844717   0.747615  \n",
      "    3      0.962354   0.83393    0.749718  \n",
      "    4      1.007142   0.818327   0.752347  \n",
      "\n"
     ]
    },
    {
     "data": {
      "text/plain": [
       "[array([0.81833]), 0.7523473296777586]"
      ]
     },
     "execution_count": 10,
     "metadata": {},
     "output_type": "execute_result"
    }
   ],
   "source": [
    "learn.fit(1.e-2, 5)"
   ]
  },
  {
   "cell_type": "code",
   "execution_count": 11,
   "metadata": {},
   "outputs": [],
   "source": [
    "learn.unfreeze()"
   ]
  },
  {
   "cell_type": "code",
   "execution_count": 12,
   "metadata": {},
   "outputs": [],
   "source": [
    "lrs = np.array([1.e-4, 1.e-3, 1.e-2])"
   ]
  },
  {
   "cell_type": "code",
   "execution_count": 13,
   "metadata": {},
   "outputs": [
    {
     "data": {
      "application/vnd.jupyter.widget-view+json": {
       "model_id": "c511f30d8cc1418e932c56388e9cc82d",
       "version_major": 2,
       "version_minor": 0
      },
      "text/plain": [
       "HBox(children=(IntProgress(value=0, description='Epoch', max=31), HTML(value='')))"
      ]
     },
     "metadata": {},
     "output_type": "display_data"
    },
    {
     "name": "stdout",
     "output_type": "stream",
     "text": [
      "epoch      trn_loss   val_loss   accuracy   \n",
      "    0      0.473408   0.371007   0.878014  \n",
      "    1      0.399801   0.324957   0.891159  \n",
      "    2      0.295808   0.30166    0.90145   \n",
      "    3      0.340711   0.324806   0.893037  \n",
      "    4      0.247312   0.30679    0.900999  \n",
      "    5      0.179656   0.302314   0.903403  \n",
      "    6      0.119941   0.299583   0.905281  \n",
      "    7      0.245204   0.335535   0.896868  \n",
      "    8      0.197863   0.343421   0.896868  \n",
      "    9      0.151463   0.344242   0.900774  \n",
      "    10     0.103171   0.355695   0.899797  \n",
      "    11     0.066987   0.364325   0.902727  \n",
      "    12     0.050627   0.378704   0.903628  \n",
      "    13     0.037775   0.384221   0.904004  \n",
      "    14     0.030459   0.383789   0.903703  \n",
      "    15     0.169164   0.428796   0.881319  \n",
      "    16     0.149126   0.387876   0.893938  \n",
      "    17     0.106455   0.397358   0.896717  \n",
      "    18     0.070117   0.418271   0.897093  \n",
      "    19     0.060308   0.42931    0.899797  \n",
      "    20     0.046907   0.443623   0.901525  \n",
      "    21     0.041468   0.456716   0.903027  \n",
      "    22     0.02645    0.458238   0.902652  \n",
      "    23     0.017356   0.471966   0.9019    \n",
      "    24     0.013475   0.474853   0.904154  \n",
      "    25     0.007292   0.47862    0.906032  \n",
      "    26     0.006075   0.476703   0.904905  \n",
      "    27     0.00728    0.483843   0.907384  \n",
      "    28     0.006768   0.485965   0.906633  \n",
      "    29     0.005112   0.48313    0.907609  \n",
      "    30     0.006088   0.486167   0.907684  \n",
      "\n"
     ]
    },
    {
     "data": {
      "text/plain": [
       "[array([0.48617]), 0.9076842184331105]"
      ]
     },
     "execution_count": 13,
     "metadata": {},
     "output_type": "execute_result"
    }
   ],
   "source": [
    "learn.fit(lrs, 5, cycle_len=1, cycle_mult=2)"
   ]
  },
  {
   "cell_type": "code",
   "execution_count": 14,
   "metadata": {},
   "outputs": [],
   "source": [
    "learn.save(\"resnet50_train_on_forms_no_aug\")"
   ]
  },
  {
   "cell_type": "code",
   "execution_count": 15,
   "metadata": {},
   "outputs": [],
   "source": [
    "lrs = np.array([1.e-2, 1.e-2, 1.e-2])"
   ]
  },
  {
   "cell_type": "code",
   "execution_count": 16,
   "metadata": {},
   "outputs": [
    {
     "data": {
      "application/vnd.jupyter.widget-view+json": {
       "model_id": "7761e98a096045baa1923be4bd534c77",
       "version_major": 2,
       "version_minor": 0
      },
      "text/plain": [
       "HBox(children=(IntProgress(value=0, description='Epoch', max=6), HTML(value='')))"
      ]
     },
     "metadata": {},
     "output_type": "display_data"
    },
    {
     "name": "stdout",
     "output_type": "stream",
     "text": [
      "epoch      trn_loss   val_loss   accuracy   \n",
      "    0      0.409374   0.326906   0.890183  \n",
      "    1      0.322413   0.280849   0.905881  \n",
      "    2      0.335234   0.297729   0.897168  \n",
      "    3      0.198002   0.269453   0.908736  \n",
      "    4      0.27227    0.28505    0.903102  \n",
      "    5      0.19758    0.261938   0.91129   \n",
      "\n"
     ]
    },
    {
     "data": {
      "text/plain": [
       "[array([0.26194]), 0.9112897168181476]"
      ]
     },
     "execution_count": 16,
     "metadata": {},
     "output_type": "execute_result"
    }
   ],
   "source": [
    "learn.fit(lrs,3,cycle_len=2)"
   ]
  },
  {
   "cell_type": "code",
   "execution_count": 17,
   "metadata": {},
   "outputs": [],
   "source": [
    "learn.save(\"resnet50_train_emnist_no_aug_loss_0.26\")"
   ]
  },
  {
   "cell_type": "code",
   "execution_count": 18,
   "metadata": {},
   "outputs": [],
   "source": [
    "learn.load('resnet50_train_emnist_no_aug_loss_0.26')"
   ]
  },
  {
   "cell_type": "code",
   "execution_count": 19,
   "metadata": {},
   "outputs": [],
   "source": [
    "aug_tfms = [RandomRotateZoom(deg=10, zoom=0.9, stretch=0.1)]"
   ]
  },
  {
   "cell_type": "code",
   "execution_count": 20,
   "metadata": {},
   "outputs": [],
   "source": [
    "data = ImageClassifierData.from_csv(FORMS_PATH, \"train\", FORMS_PATH+\"/train.csv\", bs, tfms = tfms_from_model(arch, sz, aug_tfms))"
   ]
  },
  {
   "cell_type": "code",
   "execution_count": 21,
   "metadata": {},
   "outputs": [],
   "source": [
    "learn = ConvLearner.pretrained(arch, data, precompute=False, pretrained=True)"
   ]
  },
  {
   "cell_type": "code",
   "execution_count": 22,
   "metadata": {},
   "outputs": [],
   "source": [
    "learn.load('resnet50_train_emnist_no_aug_loss_0.26')"
   ]
  },
  {
   "cell_type": "code",
   "execution_count": 23,
   "metadata": {},
   "outputs": [
    {
     "data": {
      "application/vnd.jupyter.widget-view+json": {
       "model_id": "c3b2214053dd41c2b264f675e071919d",
       "version_major": 2,
       "version_minor": 0
      },
      "text/plain": [
       "HBox(children=(IntProgress(value=0, description='Epoch', max=1), HTML(value='')))"
      ]
     },
     "metadata": {},
     "output_type": "display_data"
    },
    {
     "name": "stdout",
     "output_type": "stream",
     "text": [
      "epoch      trn_loss   val_loss   accuracy   \n",
      "    0      0.39054    0.260201   0.910989  \n",
      "\n"
     ]
    },
    {
     "data": {
      "text/plain": [
       "[array([0.2602]), 0.9109892586193946]"
      ]
     },
     "execution_count": 23,
     "metadata": {},
     "output_type": "execute_result"
    }
   ],
   "source": [
    "learn.fit(1.e-3,1)"
   ]
  },
  {
   "cell_type": "code",
   "execution_count": 24,
   "metadata": {},
   "outputs": [],
   "source": [
    "learn.unfreeze()"
   ]
  },
  {
   "cell_type": "code",
   "execution_count": 30,
   "metadata": {},
   "outputs": [],
   "source": [
    "lrs = np.array([1.e-2,1.e-2,1.e-2])"
   ]
  },
  {
   "cell_type": "code",
   "execution_count": 26,
   "metadata": {},
   "outputs": [
    {
     "data": {
      "application/vnd.jupyter.widget-view+json": {
       "model_id": "78291f6a380b407a85ef39d804d8bc72",
       "version_major": 2,
       "version_minor": 0
      },
      "text/plain": [
       "HBox(children=(IntProgress(value=0, description='Epoch', max=3), HTML(value='')))"
      ]
     },
     "metadata": {},
     "output_type": "display_data"
    },
    {
     "name": "stdout",
     "output_type": "stream",
     "text": [
      "epoch      trn_loss   val_loss   accuracy   \n",
      "    0      0.323683   0.268097   0.910388  \n",
      "    1      0.336332   0.265266   0.911665  \n",
      "    2      0.294816   0.266533   0.909863  \n",
      "\n"
     ]
    },
    {
     "data": {
      "text/plain": [
       "[array([0.26653]), 0.9098625403740704]"
      ]
     },
     "execution_count": 26,
     "metadata": {},
     "output_type": "execute_result"
    }
   ],
   "source": [
    "learn.fit(lrs,3, cycle_len=1)"
   ]
  },
  {
   "cell_type": "code",
   "execution_count": 33,
   "metadata": {},
   "outputs": [],
   "source": [
    "learn.save('resnet50_train_emnist_yes_aug_loss_0.26')"
   ]
  },
  {
   "cell_type": "code",
   "execution_count": 35,
   "metadata": {},
   "outputs": [],
   "source": [
    "learn.load('resnet50_train_emnist_yes_aug_loss_0.26')"
   ]
  },
  {
   "cell_type": "code",
   "execution_count": 36,
   "metadata": {},
   "outputs": [
    {
     "name": "stdout",
     "output_type": "stream",
     "text": [
      "using lrs:  [0.001 0.001 0.001]\n"
     ]
    },
    {
     "data": {
      "application/vnd.jupyter.widget-view+json": {
       "model_id": "6158fa415c18488f98cd9c0b491e0ebc",
       "version_major": 2,
       "version_minor": 0
      },
      "text/plain": [
       "HBox(children=(IntProgress(value=0, description='Epoch', max=5), HTML(value='')))"
      ]
     },
     "metadata": {},
     "output_type": "display_data"
    },
    {
     "name": "stdout",
     "output_type": "stream",
     "text": [
      "epoch      trn_loss   val_loss   accuracy   \n",
      "    0      0.278649   0.26029    0.91174   \n",
      "    1      0.250317   0.25981    0.912266  \n",
      "    2      0.232694   0.261101   0.912041  \n",
      "    3      0.223044   0.26235    0.911064  \n",
      "    4      0.251023   0.257403   0.91174   \n",
      "using lrs:  [0.0001 0.0001 0.0001]\n"
     ]
    },
    {
     "data": {
      "application/vnd.jupyter.widget-view+json": {
       "model_id": "62f2ff6febfb447aa1ec89d342a9c2b2",
       "version_major": 2,
       "version_minor": 0
      },
      "text/plain": [
       "HBox(children=(IntProgress(value=0, description='Epoch', max=5), HTML(value='')))"
      ]
     },
     "metadata": {},
     "output_type": "display_data"
    },
    {
     "name": "stdout",
     "output_type": "stream",
     "text": [
      "epoch      trn_loss   val_loss   accuracy   \n",
      "    0      0.219453   0.260997   0.911515  \n",
      "    1      0.223795   0.258625   0.912341  \n",
      "    2      0.216416   0.259597   0.912116  \n",
      "    3      0.202643   0.258464   0.911966  \n",
      "    4      0.238488   0.261676   0.910914  \n"
     ]
    }
   ],
   "source": [
    "for i in [10,100]:\n",
    "    print('using lrs: ',lrs/(i))\n",
    "    learn.fit(lrs/(i),5, cycle_len=1)\n",
    "    "
   ]
  },
  {
   "cell_type": "code",
   "execution_count": null,
   "metadata": {},
   "outputs": [],
   "source": []
  }
 ],
 "metadata": {
  "kernelspec": {
   "display_name": "Python 3",
   "language": "python",
   "name": "python3"
  },
  "language_info": {
   "codemirror_mode": {
    "name": "ipython",
    "version": 3
   },
   "file_extension": ".py",
   "mimetype": "text/x-python",
   "name": "python",
   "nbconvert_exporter": "python",
   "pygments_lexer": "ipython3",
   "version": "3.6.5"
  }
 },
 "nbformat": 4,
 "nbformat_minor": 2
}
